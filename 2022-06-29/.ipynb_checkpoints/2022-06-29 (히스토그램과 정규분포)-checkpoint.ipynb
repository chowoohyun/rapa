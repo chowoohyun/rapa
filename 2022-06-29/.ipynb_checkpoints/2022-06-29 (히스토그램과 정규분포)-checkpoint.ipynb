{
 "cells": [
  {
   "cell_type": "markdown",
   "id": "029e49c6",
   "metadata": {},
   "source": [
    "# 2022-06-29\n",
    "\n",
    "## \"머신러닝 필수요소정형데이터\"</br>\n",
    "## 탐색적데이터분석</br>\n",
    "< 기술통계, 이상치, 필수시각화, 스케일링, 더미변수 ></br>"
   ]
  },
  {
   "cell_type": "markdown",
   "id": "1b22c8c3",
   "metadata": {},
   "source": [
    "기술 통계\n",
    "\n",
    "평균값 : 평균\n",
    "중앙값(Blue) : 수치의 크기의 값을 정렬 시켜보면 위치적으로 중앙에 있는 값을 알 수 있는 데, 그 값을 중앙 값이라고 함\n",
    "최빈값(Red) : 여러 수치 중에 가장 많이 존재하는 값"
   ]
  },
  {
   "attachments": {
    "image.png": {
     "image/png": "[encoded data removed]"
    }
   },
   "cell_type": "markdown",
   "id": "671b43b1",
   "metadata": {},
   "source": [
    "![image.png](attachment:image.png)"
   ]
  },
  {
   "cell_type": "markdown",
   "id": "e11af484",
   "metadata": {},
   "source": [
    "jpg 파일과 raw 파일이 다른이유</br>\n",
    "jpg 파일은 컴퓨터와 기기에서 보기 좋게 압축한 형태 압축해서 성능이 향상</br>\n",
    "raw파일은 카메라를 만드는 회사마다 다르며, 원본 그대로 저장한것</br>\n",
    "가로가 6천 pixel이 넘는 경우가 많다.</br>\n",
    "raw파일과 jpg 파일은 용량 차이가 많이 난다. 1/8 정도 차이</br>\n",
    "연산이나 작업이 jpg로 많이 쓰인다.</br>\n",
    "jpg = 디스플레이에서만 괜찮아 보이게 압축한다.</br>\n"
   ]
  },
  {
   "cell_type": "markdown",
   "id": "5bb62fab",
   "metadata": {},
   "source": [
    "png = 비손실 비트맵 이미지 포멧, 배경이 따로 있다.\n",
    "\n",
    "4채널의 이미지를 jpg로 보내면 배열이 맞지 않아서 인공지능이 인식하기 힘들다.\n",
    "\n"
   ]
  },
  {
   "cell_type": "code",
   "execution_count": 5,
   "id": "31c1c420",
   "metadata": {},
   "outputs": [
    {
     "data": {
      "text/plain": [
       "array([[[255., 255., 255.],\n",
       "        [255., 255., 255.],\n",
       "        [255., 255., 255.],\n",
       "        ...,\n",
       "        [255., 255., 255.],\n",
       "        [255., 255., 255.],\n",
       "        [255., 255., 255.]],\n",
       "\n",
       "       [[255., 255., 255.],\n",
       "        [255., 255., 255.],\n",
       "        [255., 255., 255.],\n",
       "        ...,\n",
       "        [255., 255., 255.],\n",
       "        [255., 255., 255.],\n",
       "        [255., 255., 255.]],\n",
       "\n",
       "       [[255., 255., 255.],\n",
       "        [255., 255., 255.],\n",
       "        [255., 255., 255.],\n",
       "        ...,\n",
       "        [255., 255., 255.],\n",
       "        [255., 255., 255.],\n",
       "        [255., 255., 255.]],\n",
       "\n",
       "       ...,\n",
       "\n",
       "       [[255., 255., 255.],\n",
       "        [255., 255., 255.],\n",
       "        [255., 255., 255.],\n",
       "        ...,\n",
       "        [255., 255., 255.],\n",
       "        [255., 255., 255.],\n",
       "        [255., 255., 255.]],\n",
       "\n",
       "       [[255., 255., 255.],\n",
       "        [255., 255., 255.],\n",
       "        [255., 255., 255.],\n",
       "        ...,\n",
       "        [255., 255., 255.],\n",
       "        [255., 255., 255.],\n",
       "        [255., 255., 255.]],\n",
       "\n",
       "       [[255., 255., 255.],\n",
       "        [255., 255., 255.],\n",
       "        [255., 255., 255.],\n",
       "        ...,\n",
       "        [255., 255., 255.],\n",
       "        [255., 255., 255.],\n",
       "        [255., 255., 255.]]])"
      ]
     },
     "execution_count": 5,
     "metadata": {},
     "output_type": "execute_result"
    }
   ],
   "source": [
    "from PIL import Image\n",
    "\n",
    "import numpy as np\n",
    "\n",
    "img = Image.open('png.png')\n",
    "img = np.array(img)\n",
    "np.shape(img) # (1193, 1470, 4)  채널이 4개라고 나온다. 이러한 경우 인공지능이 인식하기 어렵다. 마지막 채널은 알파채널이라고 부르고 배경\n",
    "\n",
    "#img[0] #마지막에 0으로 들어가있는건 투명 배경, 255로 들어간것은 불투명한 배경\n",
    "\n",
    "#png는 rgb-a 값 3채널에서 배경을 가지고 있는 4채널\n",
    "#자료에 대한 포멧을 먼저 검사하고 자료로 쓸것을 권장\n",
    "\n",
    "tmp = np.zeros((1193,1470,3))\n",
    "#tmp\n",
    "\n",
    "#img 자료 [x, x, x, x] tmp 자료는 [x, x, x]\n",
    "\n",
    "\n",
    "#img 자료에서 rgb자료만 tmp에 저장\n",
    "tmp [:,:,0] = img[:,:,0]\n",
    "tmp [:,:,1] = img[:,:,1]\n",
    "tmp [:,:,2] = img[:,:,2]\n",
    "\n",
    "\n",
    "#과연 이렇게 만들었다고 png 파일을 jpg로 인식 할지?\n",
    "tmp"
   ]
  },
  {
   "cell_type": "code",
   "execution_count": 6,
   "id": "e22591dc",
   "metadata": {},
   "outputs": [
    {
     "data": {
      "text/plain": [
       "(1193, 1470, 4)"
      ]
     },
     "execution_count": 6,
     "metadata": {},
     "output_type": "execute_result"
    }
   ],
   "source": [
    "img = Image.open('png_jpg.jpg')\n",
    "img = np.array(img)\n",
    "np.shape(img)\n",
    "\n",
    "# 불러온 자료의 채널을 꼭 확인 할것, np.shape를 확인하고 3이 아니라면 rgb+@ 인것"
   ]
  },
  {
   "cell_type": "code",
   "execution_count": null,
   "id": "81c7157e",
   "metadata": {},
   "outputs": [],
   "source": [
    "# 3채널이지만 jpg 파일이 아닌경우도 있기 때문에, 헤더 파일을 확인해야 한다.\n",
    "# 파일의 확장자를 꼭 화깅ㄴ해야 한다,"
   ]
  },
  {
   "cell_type": "code",
   "execution_count": 14,
   "id": "e38a5ab6",
   "metadata": {},
   "outputs": [
    {
     "name": "stdout",
     "output_type": "stream",
     "text": [
      "b'\\x89PNG\\r\\n\\x1a\\n\\x00\\x00\\x00\\rIHDR'\n",
      "b'\\x00\\x00\\x05\\xbe\\x00\\x00\\x04\\xa9\\x08\\x06\\x00\\x00\\x00\\x10\\xbf\\x0f'\n"
     ]
    },
    {
     "data": {
      "text/plain": [
       "'000005be000004a9080600000010bf0f'"
      ]
     },
     "execution_count": 14,
     "metadata": {},
     "output_type": "execute_result"
    }
   ],
   "source": [
    "# 헤더를 읽기 위해 파일을 열어 앞 16자리를 불러오고, hex 값으로 바꿔준다.\n",
    "\n",
    "file = open('png.png','rb')\n",
    "print(file.read(16))\n",
    "m = file.read()\n",
    "\n",
    "print(m[:16])\n",
    "m[:16].hex()"
   ]
  },
  {
   "cell_type": "code",
   "execution_count": 15,
   "id": "6c146b29",
   "metadata": {},
   "outputs": [
    {
     "name": "stdout",
     "output_type": "stream",
     "text": [
      "b'\\xff\\xd8\\xff\\xe0\\x00\\x10JFIF\\x00\\x01\\x01\\x01\\x00`'\n",
      "b'\\x00`\\x00\\x00\\xff\\xdb\\x00C\\x00\\x01\\x01\\x01\\x01\\x01\\x01\\x01'\n"
     ]
    },
    {
     "data": {
      "text/plain": [
       "'00600000ffdb00430001010101010101'"
      ]
     },
     "execution_count": 15,
     "metadata": {},
     "output_type": "execute_result"
    }
   ],
   "source": [
    "#jpg파일을 예시로 확인\n",
    "\n",
    "file = open('flower.jpg','rb')\n",
    "print(file.read(16))\n",
    "m = file.read()\n",
    "\n",
    "print(m[:16])\n",
    "m[:16].hex()"
   ]
  },
  {
   "cell_type": "markdown",
   "id": "07e08873",
   "metadata": {},
   "source": [
    "#### 파일의 헤더를 확인해서 파일의 무결성을 확인한다.\n",
    "#### 헤더 정보만으로 read가능한지 확인한다.\n",
    "#### 헤더 정보를 확인하는 방법은 위 방법으로 해야 한다.\n",
    "#### 파일을 열어서 read 앞 16자리가 헤더 이기 때문에 헤더를 확인 하여 읽을 수 있는정보인지 확인한다.\n",
    "\n",
    "jpg 헤더의 16(0-15까지 표시 할 수 있는)진수 FF D8 FF E0는\n",
    "\n",
    "16 진수 8자리는 2진수로 표현하면 8*4 해서 32자리가 표기됨\n",
    "\n",
    "\n",
    "-----------------------------------------------------------------------------------------------------------------------\n",
    "\n",
    "대량의 데이터중 몇개의 오류가 있어도 안되므로 정확한 헤더를 갖는 jpg 3채널로 모두 저장하고 작업하기도함.\n",
    "\n",
    "\n"
   ]
  },
  {
   "cell_type": "markdown",
   "id": "debaa472",
   "metadata": {},
   "source": [
    "## 머신러닝의 기초"
   ]
  },
  {
   "cell_type": "markdown",
   "id": "2a1f3aba",
   "metadata": {},
   "source": [
    "히스토그램과 정규 분포에 대한 설명\n",
    "회귀분석 - 은행권에서 많이 쓰이는 고전적인 분석 방법\n",
    "빅데이터와 회귀분석과는 조금 많이 다르다.\n",
    "\n",
    "하지만 굳이 고전적인 방법을 사용하지 않아도 된다.\n",
    "데이터 갯수가 많아지게되면 고전적인 방법에 자원이 많이들고, 추천하지 않는다."
   ]
  },
  {
   "cell_type": "markdown",
   "id": "6fac39a3",
   "metadata": {},
   "source": [
    "범주 변수 = 더미 변수</br>\n",
    "(서로 다른 것으로 구분되는 변수)</br>\n",
    "y = wx + b</br>\n",
    "\n",
    "범주 변수로 넘아갈만한지 먼저 확인해봐야 한다.</br>\n",
    "ex)성별 같은 경우, 상황값이 많지 않아서 굳이 넘어가지 않아도 된다.</br>\n",
    "ex)성별 같은 경우 0,1 값만 가지고 있기 때문에 어렵다.</br>\n",
    "ex)속한 값이 많은 경우 더미 변수로 만들어서 측정한다.</br>\n"
   ]
  },
  {
   "cell_type": "markdown",
   "id": "05ae679b",
   "metadata": {},
   "source": [
    "파이썬 프로그램의 장점 이자 단점</br>\n",
    "변수의 크기를 할당하지 않고 작업 가능하다.</br>\n",
    "추후에 범주변수를 0이랑 1로 바꿔서 작업 하는것들</br>\n",
    "\n",
    "각각의 자료를 연계하여 자료를 해석 해야 한다</br>"
   ]
  },
  {
   "cell_type": "markdown",
   "id": "919dba0e",
   "metadata": {},
   "source": [
    "## 2. 도수분포표와 히스토그램"
   ]
  },
  {
   "cell_type": "code",
   "execution_count": 26,
   "id": "211c2aab",
   "metadata": {},
   "outputs": [
    {
     "data": {
      "text/plain": [
       "[array(['A', 'AB', 'B', 'O'], dtype='<U2'),\n",
       " array([3, 1, 2, 1], dtype=int64),\n",
       " array([0.42857143, 0.14285714, 0.28571429, 0.14285714])]"
      ]
     },
     "execution_count": 26,
     "metadata": {},
     "output_type": "execute_result"
    }
   ],
   "source": [
    "import numpy as np\n",
    "\n",
    "\n",
    "blood = ['A', 'A', 'A', 'B', 'B', 'AB', 'O']\n",
    "\n",
    "tmp = np.unique(blood, return_counts=True)\n",
    "#return_counts = 카운트 갯수에 대해서 출력을 해주게 된다.\n",
    "#type(tmp)\n",
    "\n",
    "tmp = list(tmp)\n",
    "\n",
    "tmp[0]\n",
    "tmp.append(tmp[1]/np.sum(tmp[1])) # 전체 blood에서 유니크 값의 비율\n",
    "\n",
    "tmp\n",
    "#혈액형의 유니크값과, 혈액형의 명수, 총 혈액형에서 해당 혈액형의 비율\n",
    "\n",
    "#array와 df 의 차이점은 넘파이, "
   ]
  },
  {
   "cell_type": "code",
   "execution_count": 32,
   "id": "e53fbe6d",
   "metadata": {},
   "outputs": [
    {
     "data": {
      "text/plain": [
       "<BarContainer object of 4 artists>"
      ]
     },
     "execution_count": 32,
     "metadata": {},
     "output_type": "execute_result"
    },
    {
     "data": {
      "image/png": "[encoded data removed]",
      "text/plain": [
       "<Figure size 432x288 with 1 Axes>"
      ]
     },
     "metadata": {
      "needs_background": "light"
     },
     "output_type": "display_data"
    }
   ],
   "source": [
    "import pandas as pd\n",
    "df = pd.Series(blood).value_counts()\n",
    "\n",
    "import matplotlib.pyplot as plt\n",
    "plt.bar(df.index, df)"
   ]
  },
  {
   "cell_type": "code",
   "execution_count": 35,
   "id": "ca871bb0",
   "metadata": {},
   "outputs": [
    {
     "name": "stdout",
     "output_type": "stream",
     "text": [
      "Collecting seaborn\n",
      "  Downloading seaborn-0.11.2-py3-none-any.whl (292 kB)\n",
      "Requirement already satisfied: numpy>=1.15 in c:\\users\\hp\\miniconda3\\lib\\site-packages (from seaborn) (1.23.0)\n",
      "Requirement already satisfied: matplotlib>=2.2 in c:\\users\\hp\\miniconda3\\lib\\site-packages (from seaborn) (3.5.2)\n",
      "Collecting scipy>=1.0\n",
      "  Downloading scipy-1.8.1-cp39-cp39-win_amd64.whl (36.9 MB)\n",
      "Requirement already satisfied: pandas>=0.23 in c:\\users\\hp\\miniconda3\\lib\\site-packages (from seaborn) (1.4.3)\n",
      "Requirement already satisfied: cycler>=0.10 in c:\\users\\hp\\miniconda3\\lib\\site-packages (from matplotlib>=2.2->seaborn) (0.11.0)\n",
      "Requirement already satisfied: pillow>=6.2.0 in c:\\users\\hp\\miniconda3\\lib\\site-packages (from matplotlib>=2.2->seaborn) (9.1.1)\n",
      "Requirement already satisfied: fonttools>=4.22.0 in c:\\users\\hp\\miniconda3\\lib\\site-packages (from matplotlib>=2.2->seaborn) (4.33.3)\n",
      "Requirement already satisfied: packaging>=20.0 in c:\\users\\hp\\miniconda3\\lib\\site-packages (from matplotlib>=2.2->seaborn) (21.3)\n",
      "Requirement already satisfied: kiwisolver>=1.0.1 in c:\\users\\hp\\miniconda3\\lib\\site-packages (from matplotlib>=2.2->seaborn) (1.4.3)\n",
      "Requirement already satisfied: pyparsing>=2.2.1 in c:\\users\\hp\\miniconda3\\lib\\site-packages (from matplotlib>=2.2->seaborn) (3.0.4)\n",
      "Requirement already satisfied: python-dateutil>=2.7 in c:\\users\\hp\\miniconda3\\lib\\site-packages (from matplotlib>=2.2->seaborn) (2.8.2)\n",
      "Requirement already satisfied: pytz>=2020.1 in c:\\users\\hp\\miniconda3\\lib\\site-packages (from pandas>=0.23->seaborn) (2022.1)\n",
      "Requirement already satisfied: six>=1.5 in c:\\users\\hp\\miniconda3\\lib\\site-packages (from python-dateutil>=2.7->matplotlib>=2.2->seaborn) (1.16.0)\n",
      "Installing collected packages: scipy, seaborn\n",
      "Successfully installed scipy-1.8.1 seaborn-0.11.2\n"
     ]
    }
   ],
   "source": [
    "!pip install seaborn"
   ]
  },
  {
   "cell_type": "code",
   "execution_count": 39,
   "id": "8ff2132b",
   "metadata": {},
   "outputs": [
    {
     "name": "stderr",
     "output_type": "stream",
     "text": [
      "C:\\Users\\HP\\miniconda3\\lib\\site-packages\\seaborn\\_decorators.py:36: FutureWarning: Pass the following variable as a keyword arg: x. From version 0.12, the only valid positional argument will be `data`, and passing other arguments without an explicit keyword will result in an error or misinterpretation.\n",
      "  warnings.warn(\n"
     ]
    },
    {
     "data": {
      "text/plain": [
       "<AxesSubplot:ylabel='count'>"
      ]
     },
     "execution_count": 39,
     "metadata": {},
     "output_type": "execute_result"
    },
    {
     "data": {
      "image/png": "[encoded data removed]",
      "text/plain": [
       "<Figure size 432x288 with 1 Axes>"
      ]
     },
     "metadata": {
      "needs_background": "light"
     },
     "output_type": "display_data"
    }
   ],
   "source": [
    "import seaborn as sns\n",
    "sns.countplot(blood)\n"
   ]
  },
  {
   "cell_type": "code",
   "execution_count": 42,
   "id": "5e8efc56",
   "metadata": {},
   "outputs": [
    {
     "data": {
      "text/plain": [
       "<AxesSubplot:>"
      ]
     },
     "execution_count": 42,
     "metadata": {},
     "output_type": "execute_result"
    },
    {
     "data": {
      "image/png": "[encoded data removed]",
      "text/plain": [
       "<Figure size 432x288 with 1 Axes>"
      ]
     },
     "metadata": {
      "needs_background": "light"
     },
     "output_type": "display_data"
    }
   ],
   "source": [
    "x = [1, 1, 1, 2, 3, 3.5, 5, 7, 8, 9, 13]\n",
    "hist, edges = np.histogram(x, 4)\n",
    "# len(x)\n",
    "edges\n",
    "hist\n",
    "sns.distplot(x, bins=4, kde=False)\n",
    "\n",
    "# 구간은 = (max - min) /bins  "
   ]
  },
  {
   "cell_type": "markdown",
   "id": "bd74446a",
   "metadata": {},
   "source": [
    "알고리즘으로 작성 해보기!"
   ]
  },
  {
   "cell_type": "code",
   "execution_count": 45,
   "id": "e1c8a8a9",
   "metadata": {},
   "outputs": [
    {
     "data": {
      "text/plain": [
       "<AxesSubplot:>"
      ]
     },
     "execution_count": 45,
     "metadata": {},
     "output_type": "execute_result"
    },
    {
     "data": {
      "image/png": "[encoded data removed]",
      "text/plain": [
       "<Figure size 432x288 with 1 Axes>"
      ]
     },
     "metadata": {
      "needs_background": "light"
     },
     "output_type": "display_data"
    }
   ],
   "source": [
    "x = [1, 1, 1, 2, 3, 3.5, 5, 7, 8, 9, 13, 0, 100]\n",
    "#최솟값과 최대값이 필요한경우, 앞 뒤로 추가 해줘도 되고 뒤에 한번에 추가 해도 된다.\n",
    "#예) 현질 금액 같은 경우 무과금도 있기 때문에 최솟값과 최대값을 확실하게 정해줘야 한다.\n",
    "\n",
    "hist, edges = np.histogram(x, 4)\n",
    "edges\n",
    "hist\n",
    "sns.distplot(x, bins=10, kde=False)"
   ]
  },
  {
   "cell_type": "markdown",
   "id": "8122bca7",
   "metadata": {},
   "source": [
    "히스토그램으로 어떤것을 알수 있는지</br>\n",
    "-> 데이터의 분포도를 확인하기 위해서</br>\n",
    "-> 작은 데이터수가 전체적인 데이터 수에 영향을 줄 수 있나?</br>\n",
    "-> min max 값이 없다면 마지막에 추가해서 히스토그램을 그릴수 있다</br>"
   ]
  },
  {
   "cell_type": "markdown",
   "id": "cf3e81a8",
   "metadata": {},
   "source": [
    "#### R은 시각화와 통계에 특화되어있는 프로그램\n",
    "#### Python은 잡다하게 사용할 수 있는 프로그램\n",
    "#### python은 시각화부분에서 많이 부족할 수 있다.\n",
    "#### R의 라이브러리를 가져와서 쓴다.\n",
    "#### subplot 같은것도 R이 더 빠르다."
   ]
  },
  {
   "cell_type": "markdown",
   "id": "7cb08349",
   "metadata": {},
   "source": [
    "※ 경고 문구가 싫은 경우 -주피터 노트북에서 경고 명령 숨기는 명령어가 있음, 그거 사용"
   ]
  },
  {
   "cell_type": "markdown",
   "id": "28625aa0",
   "metadata": {},
   "source": [
    "히스토그램을 통해 얻어낼 수 있는 자료</br>\n",
    "유저의 현질 정도를 0~90 까지 봤을때\n",
    "\n",
    "0~99999원까지 얼마나 많은 유저가 현질을 했는가\n",
    "\n",
    "히스토그램이 한쪽으로 몰려있는경우 (ex - 0~99999원 현질 유저가 많은 경우)\n",
    "\n",
    "초과금 유저가 적은 경우, 데이터의 75%의 값과 max값과 차이가 날때는 max값을 무시한다.\n",
    "\n",
    "데이터가 어디에 쏠려 있는지가 왜 중요한가?\n",
    "\n",
    "데이터는 패턴이 있어야 하며, 패턴을 확인 하기 위해 히스토그램으로 확인해본다."
   ]
  },
  {
   "cell_type": "markdown",
   "id": "f489ebff",
   "metadata": {},
   "source": [
    "## 데이터 분석\n",
    "- 패턴이 있는 자료(정규분포인가)(데이터갯수가 작을때: 예 10만건, 가설검증(귀무가설, 대립가설), pvalue를 함)\n",
    "- 빅데이터(히스토그램으로 대강봄)\n",
    "- 에서 기존자료의 패턴을 예측하거나 분류해서\n",
    "- 미래 데이터에 적용하는것\n",
    "\n"
   ]
  },
  {
   "cell_type": "code",
   "execution_count": 58,
   "id": "dc4ca285",
   "metadata": {},
   "outputs": [
    {
     "data": {
      "text/plain": [
       "(array([  8.,  27.,  58., 106., 123.,  97.,  49.,  26.,   4.,   2.]),\n",
       " array([-2.76774483, -2.14470316, -1.5216615 , -0.89861984, -0.27557817,\n",
       "         0.34746349,  0.97050515,  1.59354681,  2.21658848,  2.83963014,\n",
       "         3.4626718 ]),\n",
       " <BarContainer object of 10 artists>)"
      ]
     },
     "execution_count": 58,
     "metadata": {},
     "output_type": "execute_result"
    },
    {
     "data": {
      "image/png": "[encoded data removed]",
      "text/plain": [
       "<Figure size 432x288 with 2 Axes>"
      ]
     },
     "metadata": {
      "needs_background": "light"
     },
     "output_type": "display_data"
    }
   ],
   "source": [
    "##랜덤함수에 정규분포 난수를 발생\n",
    "\n",
    "import numpy as np\n",
    "\n",
    "a = np.random.rand(500) # 일반 난수 발생 \n",
    "b = np.random.standard_normal(500) #표준정규분포 난수 발생기\n",
    "\n",
    "\n",
    "#표준정규분포 평균은 0에 가깝게 편차는 1에 가깝게\n",
    "np.mean(a), np.std(a), np.mean(b), np.std(b)\n",
    "\n",
    "plt.subplot(1,2,1)\n",
    "plt.hist(a)\n",
    "plt.subplot(1,2,2)\n",
    "plt.hist(b)\n",
    "\n",
    "# 일반 난수 생성은 랜덤이지만 표준 정규 분포 랜덤 발생은 정규분포형식을 띈다.\n",
    "# random.normal() 함수는 정규 분포로부터 얻은 임의의 샘플을 반환"
   ]
  },
  {
   "cell_type": "markdown",
   "id": "870c9f7f",
   "metadata": {},
   "source": [
    "경기도 광주시에는 호흡기 환자가 많다.\n",
    "\n",
    "원인 : 광주의 대기 상태가 나쁠것이다.\n",
    "원인 : 나이로 구분\n",
    "원인 : 광주에 호흡기 전문 병원이 많다.(0)\n",
    "\n",
    "데이터 분석을 할때 눈에 보이지 않는것까지 찾아내야 한다.\n",
    "\n",
    "\n",
    "\n",
    "건희는 학교에서 꼴등이다.\n",
    "그래서 학원을 보냈더니 성적이 올랐다.\n",
    "이유는?\n",
    "\n",
    "학원에서 대신 자서 학교에서 잠을 안자게 되었다.\n",
    "\n",
    "\n",
    "고객 분석 = 남녀 분석\n",
    "\n",
    "날짜가 들어간 시계열 분석은 그룹을 만들어서 분석 해야 한다.\n",
    "\n",
    "R = 최근성\n",
    "F = 구매 빈도\n",
    "M = 구매 금액\n",
    "\n",
    "고객유형 분류를 통해 - VIP, 잠재VIP, 일반, 이탈\n",
    "4분기에는 신규채용이 많지 않아서 매출이 떨어진게 아닐까??\n",
    "\n",
    "\n",
    "향상도가 1 이상인 제품들이 판매 시너지를 발휘하는 제품들\n",
    "\n",
    "넷플릭스 추천 알고리즘 오픈소스\n",
    "\n",
    "word to vector => 문자를 숫자로 바꾼다\n",
    "카운트 기반하여 벤터로 만드는 기법이 있다.\n",
    "여러가지 방법들이 존재, 이것을 통해 연관성 분석이 가능\n",
    "수학공식은 어렵기 때문에 권장 하진 않음\n",
    "\n"
   ]
  },
  {
   "cell_type": "markdown",
   "id": "11704c78",
   "metadata": {},
   "source": [
    "복원추출(sampling with replacement)이란 추출하였던 것을 제자리에 돌려놓고 다음 것을 추출하는 방법이다. \n",
    "\n",
    "비복원추출(sampling without replacement)은 추출한 것을 제자리에 되돌리지 않고 다음 것을 추출하는 방법"
   ]
  },
  {
   "cell_type": "code",
   "execution_count": 164,
   "id": "95814c05",
   "metadata": {},
   "outputs": [
    {
     "data": {
      "text/plain": [
       "(array([ 0,  1,  2,  3,  4,  5,  6,  7,  8,  9, 10, 11, 12, 13, 14, 15, 16,\n",
       "        17, 18, 19, 20, 21, 22, 23, 24, 25, 26, 27, 28, 29, 30, 31]),\n",
       " array([1, 1, 1, 1, 1, 1, 1, 1, 1, 1, 1, 1, 1, 1, 1, 1, 1, 1, 1, 1, 1, 1,\n",
       "        1, 1, 1, 1, 1, 1, 1, 1, 1, 1], dtype=int64))"
      ]
     },
     "execution_count": 164,
     "metadata": {},
     "output_type": "execute_result"
    }
   ],
   "source": [
    "# 모수, 비모수 추출 = 복원추출, 비복원 추출\n",
    "\n",
    "#정규 분포 : 무작위로 뽑아서 평균을 계산 했을때 기존의 평균과 비슷\n",
    "\n",
    "import numpy as np\n",
    "\n",
    "count = 32\n",
    "b = list(np.arange(count))\n",
    "caNum=[]\n",
    "\n",
    "\n",
    "for cnt in range(count):\n",
    "    tmp = int(np.random.rand()*(count-cnt))\n",
    "    caNum.append(b[tmp])\n",
    "    b.pop(tmp)\n",
    "\n",
    "    \n",
    "    \n",
    "np.unique(caNum, return_counts=True)\n",
    "\n",
    "\n",
    "\n",
    "\n",
    "\n",
    "    \n"
   ]
  },
  {
   "cell_type": "code",
   "execution_count": null,
   "id": "2dc92e56",
   "metadata": {},
   "outputs": [],
   "source": [
    "a=[10,20,30,40]\n",
    "#추출 했더니 3번재 자리 값이 나와서 캐비넷 넘버 1번에 30을 append\n",
    "#추출 후에는 추출된 자리의 값을 없애줘야 한다.\n",
    "\n",
    "a = [10,20,40]\n",
    "#추출 했더니 2번재 자리 값이 나와서 캐비넷 넘버 2번에 20을 append\n",
    "#추출 후에는 추출된 자리의 값을 없애줘야 한다.\n",
    "\n"
   ]
  },
  {
   "cell_type": "code",
   "execution_count": 91,
   "id": "efe0e304",
   "metadata": {},
   "outputs": [
    {
     "data": {
      "text/plain": [
       "28"
      ]
     },
     "execution_count": 91,
     "metadata": {},
     "output_type": "execute_result"
    }
   ],
   "source": [
    "int(np.random.rand()*32)"
   ]
  },
  {
   "cell_type": "code",
   "execution_count": 173,
   "id": "3b34f4c6",
   "metadata": {},
   "outputs": [
    {
     "data": {
      "text/plain": [
       "array([[ 0.,  0.,  0.,  0., 27.,  2.,  6., 18.,  8.],\n",
       "       [26., 21.,  5., 25., 16., 10., 17.,  7., 28.],\n",
       "       [ 0., 22.,  9.,  4., 29., 23., 14., 31., 24.],\n",
       "       [19., 11., 30., 15., 13.,  1.,  3., 20., 12.]])"
      ]
     },
     "execution_count": 173,
     "metadata": {},
     "output_type": "execute_result"
    }
   ],
   "source": [
    "tmp = np.zeros(36)\n",
    "tmp[4:]=caNum[:32]\n",
    "np.reshape(tmp,(4,9))"
   ]
  },
  {
   "cell_type": "code",
   "execution_count": 192,
   "id": "34fd1216",
   "metadata": {},
   "outputs": [
    {
     "data": {
      "text/plain": [
       "array([1, 1, 4, 1, 2])"
      ]
     },
     "execution_count": 192,
     "metadata": {},
     "output_type": "execute_result"
    }
   ],
   "source": [
    "#인덱싱을 잘해야 한다.\n",
    "\n",
    "a = np.array([2,4,5,1,2,1,1])\n",
    "bumList=[]\n",
    "\n",
    "\n",
    "for x in range(5):\n",
    "    bum = int(np.random.rand()*7)\n",
    "    if bum not in bumList:\n",
    "        bumList.append(bum)\n",
    "        \n",
    "a[bumList]"
   ]
  },
  {
   "cell_type": "markdown",
   "id": "9f9c9b0f",
   "metadata": {},
   "source": [
    "## 주식은 강화 학습 같은것들로 진행한다."
   ]
  },
  {
   "cell_type": "markdown",
   "id": "fba8dc80",
   "metadata": {},
   "source": [
    "## 중간값, 평균, 최빈값\n",
    "\n",
    "- 평균(mean): 자료의 합을 자료의 갯수로 나눈 값\n",
    "- 평균은 극단적인 값(outliers)의 영향을 잘 받는다.\n",
    "\n",
    "\n",
    "- 중간값(median): 자료를 크기 순으로 정렬했을 때 정 가운데에 있는 값\n",
    "- 자료의 상위 50%와 하위 50%를 가르는 지점\n",
    "- '중앙값' 또는 '중위수'라고도 한다.\n",
    "- 짝수냐 홀수냐에 따라 달라진다. python에서는 홀수갯수일때는 /2, 짝수일 경우에는\n",
    "- 나눠서 앞뒤로 하나\n",
    "- 파이썬에서는 np.median로 사용가능하다.\n",
    "- 데이터가 짝수 개일 경우에는 가운데 두 값의 평균\n",
    "- 자료를 크기 순으로 정렬할 수만 있으면 되므로 서열척도/등간척도/비율척도에서 쓸 수 있다. 명명척도에서는 쓸 수 없다.\n",
    "\n",
    "\n",
    "- 최빈값(mode): 가장 빈번하게 관찰/측정되는 값\n",
    "\n",
    "\n",
    "- python의 모듈을 사용해야 자원을 아껴서 사용할 수 있다.\n",
    "- python의 scipy.stats 는 수학 모듈만 모아놓은 모듈"
   ]
  },
  {
   "cell_type": "code",
   "execution_count": 205,
   "id": "bd358230",
   "metadata": {},
   "outputs": [
    {
     "data": {
      "text/plain": [
       "1"
      ]
     },
     "execution_count": 205,
     "metadata": {},
     "output_type": "execute_result"
    }
   ],
   "source": [
    "#최빈값에 해당하는 내용\n",
    "\n",
    "a = [0,1,2,3,1,1,1,2,1,1,1,2,1,1,1,1,2,1,1,1,1]\n",
    "re = np.unique(a, return_counts=True)\n",
    "\n",
    "num = list(re[1]).index(np.max(re[1]))\n",
    "re[0][num]\n",
    "\n",
    "#type(re[1])\n",
    "\n",
    "#re.index(list(np.max(re[1])))\n",
    "\n",
    "#np.max(re[1])\n",
    "#re[1][1]\n"
   ]
  },
  {
   "cell_type": "code",
   "execution_count": 203,
   "id": "02c6694b",
   "metadata": {},
   "outputs": [
    {
     "data": {
      "text/plain": [
       "1"
      ]
     },
     "execution_count": 203,
     "metadata": {},
     "output_type": "execute_result"
    }
   ],
   "source": [
    "re[1] #2\n",
    "re[0][1]"
   ]
  },
  {
   "cell_type": "code",
   "execution_count": 207,
   "id": "a35e9872",
   "metadata": {},
   "outputs": [
    {
     "data": {
      "text/plain": [
       "ModeResult(mode=array([1]), count=array([15]))"
      ]
     },
     "execution_count": 207,
     "metadata": {},
     "output_type": "execute_result"
    }
   ],
   "source": [
    "from scipy.stats import mode\n",
    "\n",
    "mode(a) #가장 출현 빈도가 높은 번호, index번호"
   ]
  },
  {
   "cell_type": "markdown",
   "id": "b66d7c5a",
   "metadata": {},
   "source": [
    "### 분산성 측정치 (분산, 표준편차, 범위, 사분위간 범위)\n",
    "\n",
    "- 데이터의 퍼짐 정도\n",
    "- 편차(평균과 값의 차이) x - x^\n",
    "- 분산(평균과 값의 차이를 제곱한 자료의 합) \n",
    "- 정 가운데 중앙 집중형 데이터가 가장 좋은것\n",
    "- 평균 데이터와 떨어져 있는 데이터는 고민을 해야 된다.\n",
    "- 분산성, 평균을 기반해서 얼마나 펴저있는지\n",
    "- 문제는 분산을 척도를 구하는 명령에는 모집단과 표본집단 두개가 들어간다.\n",
    "\n",
    "\n",
    "- 변산성(variability): 자료가 흩어져 있는 정도, 혹은 개체에 따라 변할 수 있는 정도\n",
    "- 중심경향치가 자료가 무엇을 중심으로 모여있는가(혹은 흩어져 있는가)를 나타내는 것이라면,\n",
    "- 변산성 측정치는, 그 모여있는 정도(혹은 흩어져 있는 정도)를 의미함\n",
    "\n",
    "\n",
    "#### 분산\n",
    "\n",
    "- 평균에서 데이터가 벗어난 정도를 수치화한 값\n",
    "- 각각의 데이터에서 평균값을 빼고, 그것을 제곱하여 평균을 구함\n",
    "\n",
    "- 분산이 크면 : 데이터가 평균에서 많이 벗어나 있다\n",
    "\n",
    "- 분산이 작으면 : 데이터가 평균 주변에 모여 있다\n",
    "\n",
    "\n",
    "#### 표준편차\n",
    "\n",
    "- 평균에서 데이터가 벗어난 정도를 수치화한 값\n",
    "- 표준편차(분산 **0.5 또는 루트(분산)) // 값이 너무 커서 줄이는것"
   ]
  },
  {
   "cell_type": "code",
   "execution_count": 210,
   "id": "dfdbc62e",
   "metadata": {},
   "outputs": [
    {
     "data": {
      "text/plain": [
       "(17.5, 18.75, 4.330127018922194, 4.330127018922194)"
      ]
     },
     "execution_count": 210,
     "metadata": {},
     "output_type": "execute_result"
    }
   ],
   "source": [
    "a=[20,10,20,20]\n",
    "\n",
    "np.mean(a), np.var(a, ddof=0), np.std(a), np.var(a)**0.5\n",
    "\n",
    "#var( ddof=0) = \n",
    "#**0.5 == 루트씌워주는것\n",
    "#분산과 표준편차에서 0이 나오면 스케일링을 통해 바꿔줘야 하는데\n",
    "#데이터의 변동성이 없는 자료는 계산(스케일링)을 해줄수가 없다.\n",
    "#상관계수에도 "
   ]
  },
  {
   "cell_type": "code",
   "execution_count": 211,
   "id": "0bc00f5b",
   "metadata": {},
   "outputs": [
    {
     "data": {
      "text/plain": [
       "(17.5, 277.25, 16.650825805346713, 16.650825805346713)"
      ]
     },
     "execution_count": 211,
     "metadata": {},
     "output_type": "execute_result"
    }
   ],
   "source": [
    "a = [1, 27, 2, 40]\n",
    "\n",
    "np.mean(a), np.var(a, ddof=0), np.std(a), np.var(a)**0.5\n",
    "\n",
    "# 위 값과 비교해주면 분산이나 표준편차에서 크기가 생긴다.\n"
   ]
  },
  {
   "cell_type": "code",
   "execution_count": null,
   "id": "2adedf66",
   "metadata": {},
   "outputs": [],
   "source": [
    "# 모집단(n개), 표본집단(n-1개)에 대해서 알고 가야 한다.\n",
    "# var, std 사용시 // numpy - 모집단 기본, pandas - 표본집단 기본\n",
    "# ddof 옵션에서 모집단, 표본집단 선택 가능함\n"
   ]
  },
  {
   "cell_type": "code",
   "execution_count": null,
   "id": "5cd11764",
   "metadata": {},
   "outputs": [],
   "source": [
    "#numpy.quantile(x, .75) - numpy.quantile(x, .25)\n",
    "# 넘파이의 사분위간 범위\n",
    "\n"
   ]
  },
  {
   "cell_type": "markdown",
   "id": "de4ae118",
   "metadata": {},
   "source": [
    "#### 변산성 측정치를 이용한 이상점 진단\n",
    "\n",
    "- 대부분의 자료는 중심경향치 주변에 몰려있음\n",
    "- 변산성 측정치를 기준으로 벗어난 정도를 파악할 수 있음\n",
    "  - 평균에서 벗어난 정도를 판단할 때는 표준편차를 사용\n",
    "    - 평균에서 표준편차의 n배 떨어져 있으면 \"n 표준편차\"와 같이 표현\n",
    "  - 중간값에서 벗어난 정도를 판단할 때는 IQR을 사용\n",
    "- 중심경향치에서 크게 벗어났다면 이상점으로 의심할 수 있음"
   ]
  },
  {
   "cell_type": "code",
   "execution_count": 212,
   "id": "90e685cd",
   "metadata": {},
   "outputs": [
    {
     "name": "stdout",
     "output_type": "stream",
     "text": [
      "6.0 6.0\n",
      "8.0 8.0\n"
     ]
    }
   ],
   "source": [
    "# 모집단(n개), 표본집단(n-1개)에 대해서 알고 가야 한다.\n",
    "# var, std 사용시 // numpy - 모집단 기본, pandas - 표본집단 기본\n",
    "# ddof 옵션에서 모집단, 표본집단 선택 가능함\n",
    "\n",
    "a = [2,2,4,8]\n",
    "\n",
    "print(sum((a - np.mean(a))**2)/4, np.var(a))\n",
    "print(sum((a-np.mean(a))**2)/3, np.var(a, ddof =1))"
   ]
  },
  {
   "cell_type": "code",
   "execution_count": 214,
   "id": "0f2270c3",
   "metadata": {},
   "outputs": [
    {
     "data": {
      "text/plain": [
       "(8.0, 6.0)"
      ]
     },
     "execution_count": 214,
     "metadata": {},
     "output_type": "execute_result"
    }
   ],
   "source": [
    "import pandas as pd\n",
    "\n",
    "df = pd.DataFrame({'data':a})\n",
    "df['data'].var(), df['data'].var(ddof=0)"
   ]
  },
  {
   "cell_type": "markdown",
   "id": "181d9580",
   "metadata": {},
   "source": [
    "var 에서 ddof = 0 은 모집단, ddof = 1 은 표본집단</br>\n",
    "np.var은 ddof = 0 이 기본/ pandas 에서는 ddof =1 이 기본</br>\n",
    "참고 : n개에서 n-1,n-2, n-3 하는 작업을 자유도 라고함</br>\n",
    "ex ) 19개의 자유도 ( 20개 -1)</br>"
   ]
  },
  {
   "cell_type": "code",
   "execution_count": 215,
   "id": "296caa28",
   "metadata": {},
   "outputs": [
    {
     "name": "stdout",
     "output_type": "stream",
     "text": [
      "Collecting sklearn\n",
      "  Downloading sklearn-0.0.tar.gz (1.1 kB)\n",
      "Collecting scikit-learn\n",
      "  Downloading scikit_learn-1.1.1-cp39-cp39-win_amd64.whl (7.4 MB)\n",
      "Collecting threadpoolctl>=2.0.0\n",
      "  Downloading threadpoolctl-3.1.0-py3-none-any.whl (14 kB)\n",
      "Collecting joblib>=1.0.0\n",
      "  Downloading joblib-1.1.0-py2.py3-none-any.whl (306 kB)\n",
      "Requirement already satisfied: scipy>=1.3.2 in c:\\users\\hp\\miniconda3\\lib\\site-packages (from scikit-learn->sklearn) (1.8.1)\n",
      "Requirement already satisfied: numpy>=1.17.3 in c:\\users\\hp\\miniconda3\\lib\\site-packages (from scikit-learn->sklearn) (1.23.0)\n",
      "Building wheels for collected packages: sklearn\n",
      "  Building wheel for sklearn (setup.py): started\n",
      "  Building wheel for sklearn (setup.py): finished with status 'done'\n",
      "  Created wheel for sklearn: filename=sklearn-0.0-py2.py3-none-any.whl size=1310 sha256=ac94d45aa4587f284bf56f6767e6a406bc0a4b063cdc7e89f564e5e3b2ee4f1a\n",
      "  Stored in directory: c:\\users\\hp\\appdata\\local\\pip\\cache\\wheels\\e4\\7b\\98\\b6466d71b8d738a0c547008b9eb39bf8676d1ff6ca4b22af1c\n",
      "Successfully built sklearn\n",
      "Installing collected packages: threadpoolctl, joblib, scikit-learn, sklearn\n",
      "Successfully installed joblib-1.1.0 scikit-learn-1.1.1 sklearn-0.0 threadpoolctl-3.1.0\n"
     ]
    }
   ],
   "source": [
    "!pip install sklearn"
   ]
  },
  {
   "cell_type": "code",
   "execution_count": 216,
   "id": "6b1ed9dd",
   "metadata": {},
   "outputs": [
    {
     "ename": "NameError",
     "evalue": "name 'numeric_data' is not defined",
     "output_type": "error",
     "traceback": [
      "\u001b[1;31m---------------------------------------------------------------------------\u001b[0m",
      "\u001b[1;31mNameError\u001b[0m                                 Traceback (most recent call last)",
      "Input \u001b[1;32mIn [216]\u001b[0m, in \u001b[0;36m<cell line: 4>\u001b[1;34m()\u001b[0m\n\u001b[0;32m      1\u001b[0m \u001b[38;5;28;01mfrom\u001b[39;00m \u001b[38;5;21;01msklearn\u001b[39;00m\u001b[38;5;21;01m.\u001b[39;00m\u001b[38;5;21;01mpreprocessing\u001b[39;00m \u001b[38;5;28;01mimport\u001b[39;00m MinMaxScaler\n\u001b[0;32m      3\u001b[0m mMscaler \u001b[38;5;241m=\u001b[39m MinMaxScaler()\n\u001b[1;32m----> 4\u001b[0m mMscaler\u001b[38;5;241m.\u001b[39mfit(\u001b[43mnumeric_data\u001b[49m)\n\u001b[0;32m      6\u001b[0m mMscaled_data \u001b[38;5;241m=\u001b[39m mMscaler\u001b[38;5;241m.\u001b[39mtransform(numeric_data)\n\u001b[0;32m      7\u001b[0m mMscaled_data \u001b[38;5;241m=\u001b[39m pd\u001b[38;5;241m.\u001b[39mDataFrame(mMscaled_data)\n",
      "\u001b[1;31mNameError\u001b[0m: name 'numeric_data' is not defined"
     ]
    }
   ],
   "source": [
    "#Min-Max Scaling\n",
    "\n",
    "from sklearn.preprocessing import MinMaxScaler\n",
    "\n",
    "mMscaler = MinMaxScaler()\n",
    "mMscaler.fit(numeric_data)\n",
    "\n",
    "mMscaled_data = mMscaler.transform(numeric_data)\n",
    "mMscaled_data = pd.DataFrame(mMscaled_data)"
   ]
  },
  {
   "cell_type": "code",
   "execution_count": null,
   "id": "01a61721",
   "metadata": {},
   "outputs": [],
   "source": [
    "#Standard Scaling\n",
    "\n",
    "\n",
    "from sklearn.preprocessing import StandardScaler\n",
    "# StandardScaler 선언 및 Fitting\n",
    "sdscaler = StandardScaler()\n",
    "sdscaler.fit(numeric_data)\n",
    "\n",
    "# 데이터 변환\n",
    "sdscaled_data = sdscaler.transform(numeric_data)\n",
    "\n",
    "# 데이터 프레임으로 저장\n",
    "sdscaled_data = pd.DataFrame(sdscaled_data)\n",
    "\n"
   ]
  },
  {
   "cell_type": "code",
   "execution_count": 226,
   "id": "5c419235",
   "metadata": {},
   "outputs": [
    {
     "name": "stdout",
     "output_type": "stream",
     "text": [
      "[[0.   0.  ]\n",
      " [0.25 0.25]\n",
      " [0.5  0.5 ]\n",
      " [1.   1.  ]]\n",
      "--------------------------------------------------\n",
      "[[ 5.5    1.125]\n",
      " [50.5   12.375]]\n"
     ]
    }
   ],
   "source": [
    "from sklearn.preprocessing import MinMaxScaler\n",
    "\n",
    "train = [[-1, 2], [-0.5, 6], [0, 10], [1, 18]]\n",
    "test = [[10,20],[100,200]]\n",
    "scaler = MinMaxScaler()\n",
    "\n",
    "# print(scaler.fit(data)) # fit \n",
    "# print(scaler.data_max_)\n",
    "# print(scaler.data_min_)\n",
    "\n",
    "#print('-'*50)\n",
    "\n",
    "print(scaler.fit_transform(train))\n",
    "print('-'*50)\n",
    "print(scaler.transform(test))\n",
    "#fit은 정보만 얻는다, 유니크값만 갖는다.\n",
    "\n",
    "#딥러닝에서는 말고 머신러닝에서만 확인해주면된다. # test 자료는 스케일러를 하지 않는다.\n",
    "#피팅은 정보만 추출한다. 데이터의 변환이 이루어 지진 않음\n",
    "#트레이닝 데이터의  min max mean 값만 있으면 된다."
   ]
  },
  {
   "cell_type": "code",
   "execution_count": 227,
   "id": "9b06f29d",
   "metadata": {},
   "outputs": [
    {
     "name": "stdout",
     "output_type": "stream",
     "text": [
      "[[0. 0.]\n",
      " [0. 0.]\n",
      " [0. 0.]\n",
      " [0. 0.]]\n",
      "--------------------------------------------------\n",
      "[[ 10.  19.]\n",
      " [100. 199.]]\n"
     ]
    }
   ],
   "source": [
    "train = [[0, 1], [0, 1], [0, 1], [0, 1]]\n",
    "test = [[10,20],[100,200]]\n",
    "scaler = MinMaxScaler()\n",
    "\n",
    "# print(scaler.fit(data)) # fit \n",
    "# print(scaler.data_max_)\n",
    "# print(scaler.data_min_)\n",
    "\n",
    "#print('-'*50)\n",
    "\n",
    "print(scaler.fit_transform(train))\n",
    "print('-'*50)\n",
    "print(scaler.transform(test))"
   ]
  },
  {
   "cell_type": "code",
   "execution_count": 228,
   "id": "755cf6e1",
   "metadata": {},
   "outputs": [
    {
     "name": "stdout",
     "output_type": "stream",
     "text": [
      "[[-0.57735027  1.        ]\n",
      " [ 1.73205081  1.        ]\n",
      " [-0.57735027 -1.        ]\n",
      " [-0.57735027 -1.        ]]\n"
     ]
    }
   ],
   "source": [
    "from sklearn.preprocessing import StandardScaler\n",
    "\n",
    "train = [[0,1],[1,1],[0,0],[0,0]]\n",
    "scaler = StandardScaler()\n",
    "print(scaler.fit_transform(train))\n",
    "\n",
    "# 0과 1의 격차에서 격차가 더 심해짐\n",
    "# 0과 1로 이루어진 데이터셋에서는 standardscaler를 쓰지 말것\n",
    "\n"
   ]
  },
  {
   "cell_type": "code",
   "execution_count": 245,
   "id": "f3ec4fea",
   "metadata": {},
   "outputs": [
    {
     "data": {
      "text/html": [
       "<div>\n",
       "<style scoped>\n",
       "    .dataframe tbody tr th:only-of-type {\n",
       "        vertical-align: middle;\n",
       "    }\n",
       "\n",
       "    .dataframe tbody tr th {\n",
       "        vertical-align: top;\n",
       "    }\n",
       "\n",
       "    .dataframe thead th {\n",
       "        text-align: right;\n",
       "    }\n",
       "</style>\n",
       "<table border=\"1\" class=\"dataframe\">\n",
       "  <thead>\n",
       "    <tr style=\"text-align: right;\">\n",
       "      <th></th>\n",
       "      <th>호감도</th>\n",
       "      <th>성별</th>\n",
       "      <th>부산</th>\n",
       "      <th>서울</th>\n",
       "      <th>제주</th>\n",
       "    </tr>\n",
       "  </thead>\n",
       "  <tbody>\n",
       "    <tr>\n",
       "      <th>0</th>\n",
       "      <td>1</td>\n",
       "      <td>여</td>\n",
       "      <td>0</td>\n",
       "      <td>1</td>\n",
       "      <td>0</td>\n",
       "    </tr>\n",
       "    <tr>\n",
       "      <th>1</th>\n",
       "      <td>2</td>\n",
       "      <td>여</td>\n",
       "      <td>0</td>\n",
       "      <td>1</td>\n",
       "      <td>0</td>\n",
       "    </tr>\n",
       "    <tr>\n",
       "      <th>2</th>\n",
       "      <td>3</td>\n",
       "      <td>남</td>\n",
       "      <td>1</td>\n",
       "      <td>0</td>\n",
       "      <td>0</td>\n",
       "    </tr>\n",
       "    <tr>\n",
       "      <th>3</th>\n",
       "      <td>4</td>\n",
       "      <td>남</td>\n",
       "      <td>0</td>\n",
       "      <td>0</td>\n",
       "      <td>1</td>\n",
       "    </tr>\n",
       "    <tr>\n",
       "      <th>4</th>\n",
       "      <td>4</td>\n",
       "      <td>여</td>\n",
       "      <td>0</td>\n",
       "      <td>0</td>\n",
       "      <td>1</td>\n",
       "    </tr>\n",
       "  </tbody>\n",
       "</table>\n",
       "</div>"
      ],
      "text/plain": [
       "   호감도 성별  부산  서울  제주\n",
       "0    1  여   0   1   0\n",
       "1    2  여   0   1   0\n",
       "2    3  남   1   0   0\n",
       "3    4  남   0   0   1\n",
       "4    4  여   0   0   1"
      ]
     },
     "execution_count": 245,
     "metadata": {},
     "output_type": "execute_result"
    }
   ],
   "source": [
    "x = pd.DataFrame({'지역':['서울','서울','부산','제주','제주'],\n",
    "                 '호감도':[1,2,3,4,4],\n",
    "                 '성별':['여','여','남','남','여']})\n",
    "x\n",
    "\n",
    "# x데이터 일때 바꾸는 방법과 y 데이터 일때 바꾸는 방법이 다르다.\n",
    "# 서울 , 부산 , 제주 3개의 변수를 만들고\n",
    "# 그 변수에 맞게 핏팅 하는것\n",
    "\n",
    "a = x[['호감도','성별']]\n",
    "b = pd.get_dummies(x['지역'])\n",
    "#숫자는 더미에 영향을 받지 않는다.\n",
    "df1 = pd.concat([a,b], axis = 1)\n",
    "\n"
   ]
  },
  {
   "cell_type": "code",
   "execution_count": 242,
   "id": "49a45d32",
   "metadata": {},
   "outputs": [
    {
     "data": {
      "text/html": [
       "<div>\n",
       "<style scoped>\n",
       "    .dataframe tbody tr th:only-of-type {\n",
       "        vertical-align: middle;\n",
       "    }\n",
       "\n",
       "    .dataframe tbody tr th {\n",
       "        vertical-align: top;\n",
       "    }\n",
       "\n",
       "    .dataframe thead th {\n",
       "        text-align: right;\n",
       "    }\n",
       "</style>\n",
       "<table border=\"1\" class=\"dataframe\">\n",
       "  <thead>\n",
       "    <tr style=\"text-align: right;\">\n",
       "      <th></th>\n",
       "      <th>호감도</th>\n",
       "      <th>성별</th>\n",
       "    </tr>\n",
       "  </thead>\n",
       "  <tbody>\n",
       "    <tr>\n",
       "      <th>0</th>\n",
       "      <td>1</td>\n",
       "      <td>여</td>\n",
       "    </tr>\n",
       "    <tr>\n",
       "      <th>1</th>\n",
       "      <td>2</td>\n",
       "      <td>여</td>\n",
       "    </tr>\n",
       "    <tr>\n",
       "      <th>2</th>\n",
       "      <td>3</td>\n",
       "      <td>남</td>\n",
       "    </tr>\n",
       "    <tr>\n",
       "      <th>3</th>\n",
       "      <td>4</td>\n",
       "      <td>남</td>\n",
       "    </tr>\n",
       "    <tr>\n",
       "      <th>4</th>\n",
       "      <td>4</td>\n",
       "      <td>여</td>\n",
       "    </tr>\n",
       "  </tbody>\n",
       "</table>\n",
       "</div>"
      ],
      "text/plain": [
       "   호감도 성별\n",
       "0    1  여\n",
       "1    2  여\n",
       "2    3  남\n",
       "3    4  남\n",
       "4    4  여"
      ]
     },
     "execution_count": 242,
     "metadata": {},
     "output_type": "execute_result"
    }
   ],
   "source": [
    "x[['호감도','성별']]"
   ]
  },
  {
   "cell_type": "code",
   "execution_count": 243,
   "id": "faf8d947",
   "metadata": {},
   "outputs": [
    {
     "data": {
      "text/html": [
       "<div>\n",
       "<style scoped>\n",
       "    .dataframe tbody tr th:only-of-type {\n",
       "        vertical-align: middle;\n",
       "    }\n",
       "\n",
       "    .dataframe tbody tr th {\n",
       "        vertical-align: top;\n",
       "    }\n",
       "\n",
       "    .dataframe thead th {\n",
       "        text-align: right;\n",
       "    }\n",
       "</style>\n",
       "<table border=\"1\" class=\"dataframe\">\n",
       "  <thead>\n",
       "    <tr style=\"text-align: right;\">\n",
       "      <th></th>\n",
       "      <th>부산</th>\n",
       "      <th>서울</th>\n",
       "      <th>제주</th>\n",
       "    </tr>\n",
       "  </thead>\n",
       "  <tbody>\n",
       "    <tr>\n",
       "      <th>0</th>\n",
       "      <td>0</td>\n",
       "      <td>1</td>\n",
       "      <td>0</td>\n",
       "    </tr>\n",
       "    <tr>\n",
       "      <th>1</th>\n",
       "      <td>0</td>\n",
       "      <td>1</td>\n",
       "      <td>0</td>\n",
       "    </tr>\n",
       "    <tr>\n",
       "      <th>2</th>\n",
       "      <td>1</td>\n",
       "      <td>0</td>\n",
       "      <td>0</td>\n",
       "    </tr>\n",
       "    <tr>\n",
       "      <th>3</th>\n",
       "      <td>0</td>\n",
       "      <td>0</td>\n",
       "      <td>1</td>\n",
       "    </tr>\n",
       "    <tr>\n",
       "      <th>4</th>\n",
       "      <td>0</td>\n",
       "      <td>0</td>\n",
       "      <td>1</td>\n",
       "    </tr>\n",
       "  </tbody>\n",
       "</table>\n",
       "</div>"
      ],
      "text/plain": [
       "   부산  서울  제주\n",
       "0   0   1   0\n",
       "1   0   1   0\n",
       "2   1   0   0\n",
       "3   0   0   1\n",
       "4   0   0   1"
      ]
     },
     "execution_count": 243,
     "metadata": {},
     "output_type": "execute_result"
    }
   ],
   "source": [
    "pd.get_dummies(x['지역'])"
   ]
  },
  {
   "cell_type": "code",
   "execution_count": 247,
   "id": "b73babc7",
   "metadata": {},
   "outputs": [
    {
     "data": {
      "text/html": [
       "<div>\n",
       "<style scoped>\n",
       "    .dataframe tbody tr th:only-of-type {\n",
       "        vertical-align: middle;\n",
       "    }\n",
       "\n",
       "    .dataframe tbody tr th {\n",
       "        vertical-align: top;\n",
       "    }\n",
       "\n",
       "    .dataframe thead th {\n",
       "        text-align: right;\n",
       "    }\n",
       "</style>\n",
       "<table border=\"1\" class=\"dataframe\">\n",
       "  <thead>\n",
       "    <tr style=\"text-align: right;\">\n",
       "      <th></th>\n",
       "      <th>호감도</th>\n",
       "      <th>성별</th>\n",
       "      <th>부산</th>\n",
       "      <th>서울</th>\n",
       "      <th>제주</th>\n",
       "    </tr>\n",
       "  </thead>\n",
       "  <tbody>\n",
       "    <tr>\n",
       "      <th>0</th>\n",
       "      <td>1</td>\n",
       "      <td>1</td>\n",
       "      <td>0</td>\n",
       "      <td>1</td>\n",
       "      <td>0</td>\n",
       "    </tr>\n",
       "    <tr>\n",
       "      <th>1</th>\n",
       "      <td>2</td>\n",
       "      <td>1</td>\n",
       "      <td>0</td>\n",
       "      <td>1</td>\n",
       "      <td>0</td>\n",
       "    </tr>\n",
       "    <tr>\n",
       "      <th>2</th>\n",
       "      <td>3</td>\n",
       "      <td>0</td>\n",
       "      <td>1</td>\n",
       "      <td>0</td>\n",
       "      <td>0</td>\n",
       "    </tr>\n",
       "    <tr>\n",
       "      <th>3</th>\n",
       "      <td>4</td>\n",
       "      <td>0</td>\n",
       "      <td>0</td>\n",
       "      <td>0</td>\n",
       "      <td>1</td>\n",
       "    </tr>\n",
       "    <tr>\n",
       "      <th>4</th>\n",
       "      <td>4</td>\n",
       "      <td>1</td>\n",
       "      <td>0</td>\n",
       "      <td>0</td>\n",
       "      <td>1</td>\n",
       "    </tr>\n",
       "  </tbody>\n",
       "</table>\n",
       "</div>"
      ],
      "text/plain": [
       "   호감도  성별  부산  서울  제주\n",
       "0    1   1   0   1   0\n",
       "1    2   1   0   1   0\n",
       "2    3   0   1   0   0\n",
       "3    4   0   0   0   1\n",
       "4    4   1   0   0   1"
      ]
     },
     "execution_count": 247,
     "metadata": {},
     "output_type": "execute_result"
    }
   ],
   "source": [
    "# 더미 변수가 많이 생성되는 문자 피처가 많은 data는\n",
    "# 레벨 인코더 가지만 하고 (더미변수화 안함) 라쏘 모델을 사용함\n",
    "\n",
    "from sklearn.preprocessing import LabelEncoder\n",
    "\n",
    "encoder = LabelEncoder()\n",
    "encoder.fit(df1['성별'])\n",
    "encoder.classes_\n",
    "# 핏팅은 정보를 만들어 내는 과정,\n",
    "labels = encoder.transform(df1['성별'])\n",
    "df1['성별'] =labels\n",
    "df1\n",
    "\n",
    "#다양한 부분이 있지만, 핏팅에 대한 개념을 알려주려고 쓰신것\n",
    "#정보를 가져와서 처리하는게 트랜스폼\n",
    "#fir_transform 으로 처리해도된다.\n"
   ]
  },
  {
   "attachments": {
    "image.png": {
     "image/png": "[encoded data removed]"
    }
   },
   "cell_type": "markdown",
   "id": "0c7f732b",
   "metadata": {},
   "source": [
    "## 데이터 전처리 과정에서 스케일링은 왜 해야 할까요??\n",
    "\n",
    "- 수치형 변수의 크기(단위)가 변수마다 다르다면 종속 변수에 미치는 영향력이 제대로 표현되지 않을 수 있습니다.\n",
    "- 이를 해결하기 위해 모든 변수의 범위를 조절해주는 과정이 스케일링입니다.\n",
    "- 스케일링은 분포의 모양을 바꿔주진 않습니다.\n",
    "\n",
    "\n",
    "![image.png](attachment:image.png)"
   ]
  },
  {
   "cell_type": "markdown",
   "id": "c378cac4",
   "metadata": {},
   "source": [
    "# 레이블 인코딩, 정규분포, 오늘 배운것들은 복습"
   ]
  }
 ],
 "metadata": {
  "kernelspec": {
   "display_name": "Python 3 (ipykernel)",
   "language": "python",
   "name": "python3"
  },
  "language_info": {
   "codemirror_mode": {
    "name": "ipython",
    "version": 3
   },
   "file_extension": ".py",
   "mimetype": "text/x-python",
   "name": "python",
   "nbconvert_exporter": "python",
   "pygments_lexer": "ipython3",
   "version": "3.9.12"
  }
 },
 "nbformat": 4,
 "nbformat_minor": 5
}
