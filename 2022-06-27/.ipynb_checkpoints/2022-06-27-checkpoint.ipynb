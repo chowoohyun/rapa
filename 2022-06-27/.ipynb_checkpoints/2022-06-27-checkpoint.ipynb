{
 "cells": [
  {
   "cell_type": "markdown",
   "id": "94931409",
   "metadata": {},
   "source": [
    "가장 큰 장점은 문서화가 가능<br>\n",
    "단점은 전문 코딩용이 아니다 보니 불편한 점이 많다. - 별도의 창을 띄워놔야 하는 작업이 안됨.<br>\n",
    "인풋, 아웃풋 같은 부분들은 사용하기 힘들다<br>\n",
    "Markdown<br>\n",
    "http 기반한 분야<br>\n",
    "\n",
    "문서 작업 하면 됩니다.<br>\n",
    "\n",
    "### 넘파이의 이해\n",
    "- 넘파이와 리스트의 차이\n",
    "- 리스트 : 길이와 형식의 구별 없이 데이터를 한개의 변수에 할당 가능한 자료 형태 구조<br>\n",
    "- array(배열) : 길이와 형식이 일치하는 자료셋\n",
    "- npy, npz = npy, 하나의 자료를 저장, npz, 서로 다른 자료를 가지고 있는 자료 저장 -> np.load로 자료 호출\n",
    "- npz 로 저장된 구조는 서로 다른 자료를 저장하는 구조, 서로다른 array를 저장하는 구조\n",
    "- npz 를 불러올때는 np(list."
   ]
  },
  {
   "cell_type": "code",
   "execution_count": 1,
   "id": "358c8f94",
   "metadata": {},
   "outputs": [
    {
     "name": "stdout",
     "output_type": "stream",
     "text": [
      "Collecting numpy\n",
      "  Downloading numpy-1.23.0-cp39-cp39-win_amd64.whl (14.7 MB)\n",
      "Installing collected packages: numpy\n",
      "Successfully installed numpy-1.23.0\n"
     ]
    }
   ],
   "source": [
    "!pip install numpy"
   ]
  },
  {
   "cell_type": "markdown",
   "id": "c6025501",
   "metadata": {},
   "source": [
    "### numpy 와 리스트의 차이점과 numpy를 쓰는 이유\n",
    "\n",
    "메모리는 a의 주소를 기억하는게 아니라 리스트 원소의 주소를 기억, 그래서 파이썬이 느림,\n",
    "\n",
    "array 구조는 자료를 모아줘서 메모리 엑세스 성능을 향상 시킨다.\n",
    "\n",
    "행 열의 수가 같아야 한다(array)\n",
    "\n",
    "전처리 시, "
   ]
  },
  {
   "cell_type": "code",
   "execution_count": 7,
   "id": "c42e0005",
   "metadata": {},
   "outputs": [
    {
     "name": "stderr",
     "output_type": "stream",
     "text": [
      "C:\\Users\\HP\\AppData\\Local\\Temp\\ipykernel_14936\\1276105307.py:8: VisibleDeprecationWarning: Creating an ndarray from ragged nested sequences (which is a list-or-tuple of lists-or-tuples-or ndarrays with different lengths or shapes) is deprecated. If you meant to do this, you must specify 'dtype=object' when creating the ndarray.\n",
      "  a = np.array([[1,2,3,4,'gg'],[4,6]])\n"
     ]
    },
    {
     "data": {
      "text/plain": [
       "((5,), (2,))"
      ]
     },
     "execution_count": 7,
     "metadata": {},
     "output_type": "execute_result"
    }
   ],
   "source": [
    "a=[[1,2,3,4,'gg'],[4,6]] \n",
    "\n",
    "# 메모리는 a의 주소를 기억하는게 아니라 리스트 원소의 주소를 기억, 그래서 파이썬이 느림,\n",
    "#array 구조는 자료를 모아줘서 메모리 엑세스 성능을 향상 시킨다.\n",
    "#행 열의 수가 같아야 한다(array)\n",
    "\n",
    "import numpy as np\n",
    "a = np.array([[1,2,3,4,'gg'],[4,6]])\n",
    "x_train = a[0]\n",
    "y_train = a[1]\n",
    "\n",
    "np.shape(x_train), np.shape(y_train)"
   ]
  },
  {
   "cell_type": "code",
   "execution_count": 8,
   "id": "23e9b2f4",
   "metadata": {},
   "outputs": [
    {
     "name": "stdout",
     "output_type": "stream",
     "text": [
      "Collecting matplotlib\n",
      "  Downloading matplotlib-3.5.2-cp39-cp39-win_amd64.whl (7.2 MB)\n",
      "Requirement already satisfied: numpy>=1.17 in c:\\users\\hp\\miniconda3\\lib\\site-packages (from matplotlib) (1.23.0)\n",
      "Collecting kiwisolver>=1.0.1\n",
      "  Downloading kiwisolver-1.4.3-cp39-cp39-win_amd64.whl (55 kB)\n",
      "Collecting cycler>=0.10\n",
      "  Downloading cycler-0.11.0-py3-none-any.whl (6.4 kB)\n",
      "Collecting pillow>=6.2.0\n",
      "  Downloading Pillow-9.1.1-cp39-cp39-win_amd64.whl (3.3 MB)\n",
      "Requirement already satisfied: packaging>=20.0 in c:\\users\\hp\\miniconda3\\lib\\site-packages (from matplotlib) (21.3)\n",
      "Requirement already satisfied: python-dateutil>=2.7 in c:\\users\\hp\\miniconda3\\lib\\site-packages (from matplotlib) (2.8.2)\n",
      "Collecting fonttools>=4.22.0\n",
      "  Downloading fonttools-4.33.3-py3-none-any.whl (930 kB)\n",
      "Requirement already satisfied: pyparsing>=2.2.1 in c:\\users\\hp\\miniconda3\\lib\\site-packages (from matplotlib) (3.0.4)\n",
      "Requirement already satisfied: six>=1.5 in c:\\users\\hp\\miniconda3\\lib\\site-packages (from python-dateutil>=2.7->matplotlib) (1.16.0)\n",
      "Installing collected packages: pillow, kiwisolver, fonttools, cycler, matplotlib\n",
      "Successfully installed cycler-0.11.0 fonttools-4.33.3 kiwisolver-1.4.3 matplotlib-3.5.2 pillow-9.1.1\n"
     ]
    }
   ],
   "source": [
    "!pip install matplotlib"
   ]
  },
  {
   "cell_type": "code",
   "execution_count": 13,
   "id": "fafcc866",
   "metadata": {},
   "outputs": [],
   "source": [
    "import matplotlib.pyplot as plt"
   ]
  },
  {
   "cell_type": "code",
   "execution_count": 23,
   "id": "5cd4f9c0",
   "metadata": {},
   "outputs": [
    {
     "data": {
      "text/plain": [
       "(2, 2)"
      ]
     },
     "execution_count": 23,
     "metadata": {},
     "output_type": "execute_result"
    }
   ],
   "source": [
    "import matplotlib.pyplot as plt\n",
    "\n",
    "a=[\n",
    "[[[255,0,0],[0,255,0],[0,255,255]],\n",
    "[[0,0,0],[0,0,255],[255,255,0]]],\n",
    "\n",
    "[[[255,255,0],[244,255,0],[0,255,255]],\n",
    "[[0,0,0],[0,0,255],[255,255,0]]]]\n",
    "\n",
    "b = [1,0]\n",
    "\n",
    "test = []\n",
    "test.append(a)\n",
    "test.append(b)\n",
    "\n",
    "np.shape(test)\n",
    "#(2,2) npz \n",
    "#구글 검색 npz 저장 \n",
    "\n",
    "# import matplotlib.pyplot as plt\n",
    "# plt.imshow(a[1])\n",
    "\n",
    "#array 같은경우에는 데이터 형태가 같거나, 데이터 타입이 같아야한다.\n",
    "#다른 타입이 들어오는경우에는 큰 형태로 바뀐다.\n",
    "#array가 다른경우 "
   ]
  },
  {
   "cell_type": "markdown",
   "id": "fdf8a3e8",
   "metadata": {},
   "source": [
    "array "
   ]
  },
  {
   "cell_type": "code",
   "execution_count": 9,
   "id": "f374a0b9",
   "metadata": {},
   "outputs": [],
   "source": []
  },
  {
   "cell_type": "code",
   "execution_count": null,
   "id": "f2a28ec5",
   "metadata": {},
   "outputs": [],
   "source": [
    "#데이터 의 값이 같지 않지만 array구조로 묶어서 보내고 싶다.\n",
    "#데이터를 받는 입장에서는 데이터의 "
   ]
  }
 ],
 "metadata": {
  "kernelspec": {
   "display_name": "Python 3 (ipykernel)",
   "language": "python",
   "name": "python3"
  },
  "language_info": {
   "codemirror_mode": {
    "name": "ipython",
    "version": 3
   },
   "file_extension": ".py",
   "mimetype": "text/x-python",
   "name": "python",
   "nbconvert_exporter": "python",
   "pygments_lexer": "ipython3",
   "version": "3.9.12"
  }
 },
 "nbformat": 4,
 "nbformat_minor": 5
}
