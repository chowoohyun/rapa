{
 "cells": [
  {
   "cell_type": "markdown",
   "id": "e768bbed",
   "metadata": {},
   "source": [
    "### 쥬피터 노트북의 장점\n",
    "\n",
    "가장 큰 장점은 문서화가 가능<br>\n",
    "단점은 전문 코딩용이 아니다 보니 불편한 점이 많다. - 별도의 창을 띄워놔야 하는 작업이 안됨.<br>\n",
    "인풋, 아웃풋 같은 부분들은 사용하기 힘들다<br>\n",
    "Markdown<br>\n",
    "http 기반한 분야<br>\n",
    "\n",
    "문서 작업 하면 됩니다.<br>\n",
    "\n",
    "### 넘파이의 이해\n",
    "- 넘파이와 리스트의 차이\n",
    "- 리스트 : 길이와 형식의 구별 없이 데이터를 한개의 변수에 할당 가능한 자료 형태 구조<br>\n",
    "- array(배열) : 길이와 형식이 일치하는 자료셋\n",
    "- npy, npz = npy, 하나의 자료를 저장, npz, 서로 다른 자료를 가지고 있는 자료 저장 -> np.load로 자료 호출\n",
    "- npz 로 저장된 구조는 서로 다른 자료를 저장하는 구조, 서로다른 array를 저장하는 구조\n",
    "- npz 를 불러올때는 list(np.load)로서 확인"
   ]
  },
  {
   "cell_type": "code",
   "execution_count": 1,
   "id": "d4a4ba5e",
   "metadata": {},
   "outputs": [
    {
     "name": "stdout",
     "output_type": "stream",
     "text": [
      "Collecting numpy\n",
      "  Downloading numpy-1.23.0-cp39-cp39-win_amd64.whl (14.7 MB)\n",
      "Installing collected packages: numpy\n",
      "Successfully installed numpy-1.23.0\n"
     ]
    }
   ],
   "source": [
    "!pip install numpy"
   ]
  },
  {
   "cell_type": "markdown",
   "id": "a24e845b",
   "metadata": {},
   "source": [
    "### numpy 와 리스트의 차이점과 numpy를 쓰는 이유\n",
    "\n",
    "메모리는 a의 주소를 기억하는게 아니라 리스트 원소의 주소를 기억, 그래서 파이썬이 느림,\n",
    "\n",
    "array 구조는 자료를 모아줘서 메모리 엑세스 성능을 향상 시킨다.\n",
    "\n",
    "행 열의 수가 같아야 한다(array)\n",
    "\n",
    "전처리 시, "
   ]
  },
  {
   "cell_type": "code",
   "execution_count": 7,
   "id": "1a49d570",
   "metadata": {},
   "outputs": [
    {
     "name": "stderr",
     "output_type": "stream",
     "text": [
      "C:\\Users\\HP\\AppData\\Local\\Temp\\ipykernel_14936\\1276105307.py:8: VisibleDeprecationWarning: Creating an ndarray from ragged nested sequences (which is a list-or-tuple of lists-or-tuples-or ndarrays with different lengths or shapes) is deprecated. If you meant to do this, you must specify 'dtype=object' when creating the ndarray.\n",
      "  a = np.array([[1,2,3,4,'gg'],[4,6]])\n"
     ]
    },
    {
     "data": {
      "text/plain": [
       "((5,), (2,))"
      ]
     },
     "execution_count": 7,
     "metadata": {},
     "output_type": "execute_result"
    }
   ],
   "source": [
    "a=[[1,2,3,4,'gg'],[4,6]] \n",
    "\n",
    "# 메모리는 a의 주소를 기억하는게 아니라 리스트 원소의 주소를 기억, 그래서 파이썬이 느림,\n",
    "#array 구조는 자료를 모아줘서 메모리 엑세스 성능을 향상 시킨다.\n",
    "#행 열의 수가 같아야 한다(array)\n",
    "\n",
    "import numpy as np\n",
    "a = np.array([[1,2,3,4,'gg'],[4,6]])\n",
    "x_train = a[0]\n",
    "y_train = a[1]\n",
    "\n",
    "np.shape(x_train), np.shape(y_train)"
   ]
  },
  {
   "cell_type": "code",
   "execution_count": 8,
   "id": "d327a21a",
   "metadata": {},
   "outputs": [
    {
     "name": "stdout",
     "output_type": "stream",
     "text": [
      "Collecting matplotlib\n",
      "  Downloading matplotlib-3.5.2-cp39-cp39-win_amd64.whl (7.2 MB)\n",
      "Requirement already satisfied: numpy>=1.17 in c:\\users\\hp\\miniconda3\\lib\\site-packages (from matplotlib) (1.23.0)\n",
      "Collecting kiwisolver>=1.0.1\n",
      "  Downloading kiwisolver-1.4.3-cp39-cp39-win_amd64.whl (55 kB)\n",
      "Collecting cycler>=0.10\n",
      "  Downloading cycler-0.11.0-py3-none-any.whl (6.4 kB)\n",
      "Collecting pillow>=6.2.0\n",
      "  Downloading Pillow-9.1.1-cp39-cp39-win_amd64.whl (3.3 MB)\n",
      "Requirement already satisfied: packaging>=20.0 in c:\\users\\hp\\miniconda3\\lib\\site-packages (from matplotlib) (21.3)\n",
      "Requirement already satisfied: python-dateutil>=2.7 in c:\\users\\hp\\miniconda3\\lib\\site-packages (from matplotlib) (2.8.2)\n",
      "Collecting fonttools>=4.22.0\n",
      "  Downloading fonttools-4.33.3-py3-none-any.whl (930 kB)\n",
      "Requirement already satisfied: pyparsing>=2.2.1 in c:\\users\\hp\\miniconda3\\lib\\site-packages (from matplotlib) (3.0.4)\n",
      "Requirement already satisfied: six>=1.5 in c:\\users\\hp\\miniconda3\\lib\\site-packages (from python-dateutil>=2.7->matplotlib) (1.16.0)\n",
      "Installing collected packages: pillow, kiwisolver, fonttools, cycler, matplotlib\n",
      "Successfully installed cycler-0.11.0 fonttools-4.33.3 kiwisolver-1.4.3 matplotlib-3.5.2 pillow-9.1.1\n"
     ]
    }
   ],
   "source": [
    "!pip install matplotlib"
   ]
  },
  {
   "cell_type": "code",
   "execution_count": 13,
   "id": "e1114f13",
   "metadata": {},
   "outputs": [],
   "source": [
    "import matplotlib.pyplot as plt"
   ]
  },
  {
   "cell_type": "code",
   "execution_count": 23,
   "id": "5ae74716",
   "metadata": {},
   "outputs": [
    {
     "data": {
      "text/plain": [
       "(2, 2)"
      ]
     },
     "execution_count": 23,
     "metadata": {},
     "output_type": "execute_result"
    }
   ],
   "source": [
    "import matplotlib.pyplot as plt\n",
    "\n",
    "a=[\n",
    "[[[255,0,0],[0,255,0],[0,255,255]],\n",
    "[[0,0,0],[0,0,255],[255,255,0]]],\n",
    "\n",
    "[[[255,255,0],[244,255,0],[0,255,255]],\n",
    "[[0,0,0],[0,0,255],[255,255,0]]]]\n",
    "\n",
    "b = [1,0]\n",
    "\n",
    "test = []\n",
    "test.append(a)\n",
    "test.append(b)\n",
    "\n",
    "np.shape(test)\n",
    "#(2,2) npz \n",
    "#구글 검색 npz 저장 \n",
    "# 그림이나 소리 안보내고 numpy 배열만 보낸다.\n",
    "\n",
    "# import matplotlib.pyplot as plt\n",
    "# plt.imshow(a[1])\n",
    "\n",
    "#array 같은경우에는 데이터 형태가 같거나, 데이터 타입이 같아야한다.\n",
    "#다른 타입이 들어오는경우에는 큰 형태로 바뀐다.\n",
    "#array가 다른경우 "
   ]
  },
  {
   "cell_type": "code",
   "execution_count": 24,
   "id": "bd52bf1b",
   "metadata": {},
   "outputs": [
    {
     "name": "stdout",
     "output_type": "stream",
     "text": [
      "Collecting tensorflow-cpu\n",
      "  Downloading tensorflow_cpu-2.9.1-cp39-cp39-win_amd64.whl (256.3 MB)\n",
      "Collecting flatbuffers<2,>=1.12\n",
      "  Downloading flatbuffers-1.12-py2.py3-none-any.whl (15 kB)\n",
      "Requirement already satisfied: numpy>=1.20 in c:\\users\\hp\\miniconda3\\lib\\site-packages (from tensorflow-cpu) (1.23.0)\n",
      "Collecting termcolor>=1.1.0\n",
      "  Downloading termcolor-1.1.0.tar.gz (3.9 kB)\n",
      "Collecting google-pasta>=0.1.1\n",
      "  Downloading google_pasta-0.2.0-py3-none-any.whl (57 kB)\n",
      "Collecting keras<2.10.0,>=2.9.0rc0\n",
      "  Downloading keras-2.9.0-py2.py3-none-any.whl (1.6 MB)\n",
      "Collecting gast<=0.4.0,>=0.2.1\n",
      "  Downloading gast-0.4.0-py3-none-any.whl (9.8 kB)\n",
      "Collecting tensorboard<2.10,>=2.9\n",
      "  Downloading tensorboard-2.9.1-py3-none-any.whl (5.8 MB)\n",
      "Collecting grpcio<2.0,>=1.24.3\n",
      "  Downloading grpcio-1.47.0-cp39-cp39-win_amd64.whl (3.6 MB)\n",
      "Collecting wrapt>=1.11.0\n",
      "  Downloading wrapt-1.14.1-cp39-cp39-win_amd64.whl (35 kB)\n",
      "Collecting keras-preprocessing>=1.1.1\n",
      "  Downloading Keras_Preprocessing-1.1.2-py2.py3-none-any.whl (42 kB)\n",
      "Collecting protobuf<3.20,>=3.9.2\n",
      "  Downloading protobuf-3.19.4-cp39-cp39-win_amd64.whl (895 kB)\n",
      "Collecting tensorflow-estimator<2.10.0,>=2.9.0rc0\n",
      "  Downloading tensorflow_estimator-2.9.0-py2.py3-none-any.whl (438 kB)\n",
      "Requirement already satisfied: six>=1.12.0 in c:\\users\\hp\\miniconda3\\lib\\site-packages (from tensorflow-cpu) (1.16.0)\n",
      "Collecting absl-py>=1.0.0\n",
      "  Downloading absl_py-1.1.0-py3-none-any.whl (123 kB)\n",
      "Collecting astunparse>=1.6.0\n",
      "  Downloading astunparse-1.6.3-py2.py3-none-any.whl (12 kB)\n",
      "Collecting opt-einsum>=2.3.2\n",
      "  Downloading opt_einsum-3.3.0-py3-none-any.whl (65 kB)\n",
      "Requirement already satisfied: packaging in c:\\users\\hp\\miniconda3\\lib\\site-packages (from tensorflow-cpu) (21.3)\n",
      "Requirement already satisfied: typing-extensions>=3.6.6 in c:\\users\\hp\\miniconda3\\lib\\site-packages (from tensorflow-cpu) (4.1.1)\n",
      "Collecting libclang>=13.0.0\n",
      "  Downloading libclang-14.0.1-py2.py3-none-win_amd64.whl (14.2 MB)\n",
      "Requirement already satisfied: setuptools in c:\\users\\hp\\miniconda3\\lib\\site-packages (from tensorflow-cpu) (61.2.0)\n",
      "Collecting h5py>=2.9.0\n",
      "  Downloading h5py-3.7.0-cp39-cp39-win_amd64.whl (2.6 MB)\n",
      "Collecting tensorflow-io-gcs-filesystem>=0.23.1\n",
      "  Downloading tensorflow_io_gcs_filesystem-0.26.0-cp39-cp39-win_amd64.whl (1.5 MB)\n",
      "Requirement already satisfied: wheel<1.0,>=0.23.0 in c:\\users\\hp\\miniconda3\\lib\\site-packages (from astunparse>=1.6.0->tensorflow-cpu) (0.37.1)\n",
      "Collecting tensorboard-data-server<0.7.0,>=0.6.0\n",
      "  Downloading tensorboard_data_server-0.6.1-py3-none-any.whl (2.4 kB)\n",
      "Collecting google-auth<3,>=1.6.3\n",
      "  Downloading google_auth-2.8.0-py2.py3-none-any.whl (164 kB)\n",
      "Collecting tensorboard-plugin-wit>=1.6.0\n",
      "  Downloading tensorboard_plugin_wit-1.8.1-py3-none-any.whl (781 kB)\n",
      "Requirement already satisfied: requests<3,>=2.21.0 in c:\\users\\hp\\miniconda3\\lib\\site-packages (from tensorboard<2.10,>=2.9->tensorflow-cpu) (2.27.1)\n",
      "Collecting markdown>=2.6.8\n",
      "  Downloading Markdown-3.3.7-py3-none-any.whl (97 kB)\n",
      "Collecting google-auth-oauthlib<0.5,>=0.4.1\n",
      "  Downloading google_auth_oauthlib-0.4.6-py2.py3-none-any.whl (18 kB)\n",
      "Collecting werkzeug>=1.0.1\n",
      "  Downloading Werkzeug-2.1.2-py3-none-any.whl (224 kB)\n",
      "Collecting rsa<5,>=3.1.4\n",
      "  Downloading rsa-4.8-py3-none-any.whl (39 kB)\n",
      "Collecting cachetools<6.0,>=2.0.0\n",
      "  Downloading cachetools-5.2.0-py3-none-any.whl (9.3 kB)\n",
      "Collecting pyasn1-modules>=0.2.1\n",
      "  Downloading pyasn1_modules-0.2.8-py2.py3-none-any.whl (155 kB)\n",
      "Collecting requests-oauthlib>=0.7.0\n",
      "  Downloading requests_oauthlib-1.3.1-py2.py3-none-any.whl (23 kB)\n",
      "Collecting importlib-metadata>=4.4\n",
      "  Downloading importlib_metadata-4.12.0-py3-none-any.whl (21 kB)\n",
      "Collecting zipp>=0.5\n",
      "  Downloading zipp-3.8.0-py3-none-any.whl (5.4 kB)\n",
      "Collecting pyasn1<0.5.0,>=0.4.6\n",
      "  Downloading pyasn1-0.4.8-py2.py3-none-any.whl (77 kB)\n",
      "Requirement already satisfied: urllib3<1.27,>=1.21.1 in c:\\users\\hp\\miniconda3\\lib\\site-packages (from requests<3,>=2.21.0->tensorboard<2.10,>=2.9->tensorflow-cpu) (1.26.8)\n",
      "Requirement already satisfied: idna<4,>=2.5 in c:\\users\\hp\\miniconda3\\lib\\site-packages (from requests<3,>=2.21.0->tensorboard<2.10,>=2.9->tensorflow-cpu) (3.3)\n",
      "Requirement already satisfied: certifi>=2017.4.17 in c:\\users\\hp\\miniconda3\\lib\\site-packages (from requests<3,>=2.21.0->tensorboard<2.10,>=2.9->tensorflow-cpu) (2022.6.15)\n",
      "Requirement already satisfied: charset-normalizer~=2.0.0 in c:\\users\\hp\\miniconda3\\lib\\site-packages (from requests<3,>=2.21.0->tensorboard<2.10,>=2.9->tensorflow-cpu) (2.0.4)\n",
      "Collecting oauthlib>=3.0.0\n",
      "  Downloading oauthlib-3.2.0-py3-none-any.whl (151 kB)\n",
      "Requirement already satisfied: pyparsing!=3.0.5,>=2.0.2 in c:\\users\\hp\\miniconda3\\lib\\site-packages (from packaging->tensorflow-cpu) (3.0.4)\n",
      "Building wheels for collected packages: termcolor\n",
      "  Building wheel for termcolor (setup.py): started\n",
      "  Building wheel for termcolor (setup.py): finished with status 'done'\n",
      "  Created wheel for termcolor: filename=termcolor-1.1.0-py3-none-any.whl size=4848 sha256=08769eb56d99b272c77d13272d008f7c084550d137e7764922014b05f406259c\n",
      "  Stored in directory: c:\\users\\hp\\appdata\\local\\pip\\cache\\wheels\\b6\\0d\\90\\0d1bbd99855f99cb2f6c2e5ff96f8023fad8ec367695f7d72d\n",
      "Successfully built termcolor\n",
      "Installing collected packages: pyasn1, zipp, rsa, pyasn1-modules, oauthlib, cachetools, requests-oauthlib, importlib-metadata, google-auth, werkzeug, tensorboard-plugin-wit, tensorboard-data-server, protobuf, markdown, grpcio, google-auth-oauthlib, absl-py, wrapt, termcolor, tensorflow-io-gcs-filesystem, tensorflow-estimator, tensorboard, opt-einsum, libclang, keras-preprocessing, keras, h5py, google-pasta, gast, flatbuffers, astunparse, tensorflow-cpu\n",
      "Successfully installed absl-py-1.1.0 astunparse-1.6.3 cachetools-5.2.0 flatbuffers-1.12 gast-0.4.0 google-auth-2.8.0 google-auth-oauthlib-0.4.6 google-pasta-0.2.0 grpcio-1.47.0 h5py-3.7.0 importlib-metadata-4.12.0 keras-2.9.0 keras-preprocessing-1.1.2 libclang-14.0.1 markdown-3.3.7 oauthlib-3.2.0 opt-einsum-3.3.0 protobuf-3.19.4 pyasn1-0.4.8 pyasn1-modules-0.2.8 requests-oauthlib-1.3.1 rsa-4.8 tensorboard-2.9.1 tensorboard-data-server-0.6.1 tensorboard-plugin-wit-1.8.1 tensorflow-cpu-2.9.1 tensorflow-estimator-2.9.0 tensorflow-io-gcs-filesystem-0.26.0 termcolor-1.1.0 werkzeug-2.1.2 wrapt-1.14.1 zipp-3.8.0\n"
     ]
    }
   ],
   "source": [
    "!pip install tensorflow-cpu"
   ]
  },
  {
   "cell_type": "code",
   "execution_count": 25,
   "id": "176b740a",
   "metadata": {},
   "outputs": [],
   "source": [
    "np.savez('test.npz',x=a,y=b)\n",
    "#압축 파일의 형식, 두개의 데이터를 묶어서 보낸다 ."
   ]
  },
  {
   "cell_type": "code",
   "execution_count": 26,
   "id": "1cce35ea",
   "metadata": {},
   "outputs": [
    {
     "data": {
      "text/plain": [
       "['x', 'y']"
      ]
     },
     "execution_count": 26,
     "metadata": {},
     "output_type": "execute_result"
    }
   ],
   "source": [
    "data = np.load('test.npz')\n",
    "list(data)\n",
    "Xdata, Ydata = data['x'],data['y']\n",
    "#데이터를 받아놓고 나중에 할당한다."
   ]
  },
  {
   "cell_type": "code",
   "execution_count": 37,
   "id": "924dacf4",
   "metadata": {},
   "outputs": [
    {
     "data": {
      "text/plain": [
       "(60000,)"
      ]
     },
     "execution_count": 37,
     "metadata": {},
     "output_type": "execute_result"
    }
   ],
   "source": [
    "import tensorflow as tf\n",
    "\n",
    "mnist = tf.keras.datasets.mnist\n",
    "tmp = mnist.load_data() #npz자료로 다운로드함\n",
    "# 자료를 보내는 사람이 array로 보냄\n",
    "\n",
    "np.shape(tmp)\n",
    "#나중에 자료 받아서 array구조가 따로인 경우에는 서로다른 경우일수도 있으므로 확인 해보기\n",
    "\n",
    "x_train = tmp[0][0]; y_train = tmp[0][1]\n",
    "x_test = tmp[1][0]; y_test = tmp[1][1]\n",
    "#4개의 자료 셋을 보낸것\n",
    "\n",
    "\n",
    "np.shape(x_train) # 6만장중에 28x28로 구성되어있습니다.\n",
    "np.shape(y_train) # 전체 6만장 사진입니다.\n",
    "\n"
   ]
  },
  {
   "cell_type": "code",
   "execution_count": 39,
   "id": "3fd4980d",
   "metadata": {},
   "outputs": [
    {
     "data": {
      "text/plain": [
       "(0, 255)"
      ]
     },
     "execution_count": 39,
     "metadata": {},
     "output_type": "execute_result"
    }
   ],
   "source": [
    "x_train[0]\n",
    "#이미지 자료는 흑백이다.\n",
    "#최솟값과 최댓값을 확인해줘야 한다.(스케일링의 문제)\n",
    "#스케일링의 문제가 있는 이유, 0~1 사이 값으로 공부한건지 0~255 사이의 값으로 공부한건지에 따라 달라지기 때문에\n",
    "\n",
    "\n",
    "x_train.min(), x_train.max()"
   ]
  },
  {
   "cell_type": "code",
   "execution_count": 52,
   "id": "99aa4dc3",
   "metadata": {},
   "outputs": [
    {
     "data": {
      "image/png": "[encoded data removed]",
      "text/plain": [
       "<Figure size 432x288 with 12 Axes>"
      ]
     },
     "metadata": {
      "needs_background": "light"
     },
     "output_type": "display_data"
    }
   ],
   "source": [
    "num_list=[1,3,1,67,6,6,5,5,7,1923,2875,18283]\n",
    "\n",
    "\n",
    "for cnt, num in enumerate(num_list): # enumerate는 0번 부터 카운트 되는 함수,\n",
    "    plt.subplot(1,len(num_list), cnt+1)\n",
    "    #subplot(2, int(len(num_list)/2 + 0.5, cnt +1)\n",
    "    #위 방법도 가능, num_list 길이가 홀수인 경우 0,5 단위로 나오기 때문에 0,5를 더해서 실행\n",
    "    plt.imshow(x_train[num],cmap='gray')\n",
    "    plt.title(y_train[num])\n",
    "    #plt.show()\n",
    "\n",
    "# 0의 0번 자료는 가로 세로 크기가 묶여있다.\n",
    "# y label하고 한세트 이기 때문에"
   ]
  },
  {
   "cell_type": "code",
   "execution_count": 74,
   "id": "87c27af9",
   "metadata": {},
   "outputs": [
    {
     "data": {
      "text/plain": [
       "(60000, 28, 28)"
      ]
     },
     "execution_count": 74,
     "metadata": {},
     "output_type": "execute_result"
    }
   ],
   "source": [
    "np.shape(x_train)"
   ]
  },
  {
   "cell_type": "code",
   "execution_count": 53,
   "id": "1f6ceb27",
   "metadata": {},
   "outputs": [],
   "source": [
    "model = tf.keras.models.Sequential([\n",
    "  tf.keras.layers.Flatten(input_shape=(28, 28)), # 28 x 28해서 출어내는것\n",
    "  tf.keras.layers.Dense(128, activation='relu'),\n",
    "  tf.keras.layers.Dropout(0.2),\n",
    "  tf.keras.layers.Dense(10, activation='softmax')\n",
    "])\n",
    "\n",
    "model.compile(optimizer='adam',\n",
    "              loss='sparse_categorical_crossentropy',\n",
    "              metrics=['accuracy'])"
   ]
  },
  {
   "cell_type": "code",
   "execution_count": 71,
   "id": "dfc3cb98",
   "metadata": {},
   "outputs": [
    {
     "name": "stdout",
     "output_type": "stream",
     "text": [
      "Epoch 1/5\n",
      "1875/1875 [==============================] - 1s 786us/step - loss: 0.5785 - accuracy: 0.8495\n",
      "Epoch 2/5\n",
      "1875/1875 [==============================] - 1s 779us/step - loss: 0.4826 - accuracy: 0.8736\n",
      "Epoch 3/5\n",
      "1875/1875 [==============================] - 1s 778us/step - loss: 0.4348 - accuracy: 0.8880\n",
      "Epoch 4/5\n",
      "1875/1875 [==============================] - 1s 785us/step - loss: 0.4055 - accuracy: 0.8955\n",
      "Epoch 5/5\n",
      "1875/1875 [==============================] - 1s 787us/step - loss: 0.3822 - accuracy: 0.9037\n",
      "313/313 - 0s - loss: 0.2715 - accuracy: 0.9393 - 227ms/epoch - 724us/step\n"
     ]
    },
    {
     "data": {
      "text/plain": [
       "[0.2715204656124115, 0.939300000667572]"
      ]
     },
     "execution_count": 71,
     "metadata": {},
     "output_type": "execute_result"
    }
   ],
   "source": [
    "model.fit(x_train, y_train, epochs=5)\n",
    "\n",
    "model.evaluate(x_test,  y_test, verbose=2)"
   ]
  },
  {
   "cell_type": "code",
   "execution_count": 73,
   "id": "7d74a278",
   "metadata": {},
   "outputs": [
    {
     "data": {
      "text/plain": [
       "<matplotlib.image.AxesImage at 0x21e8c619760>"
      ]
     },
     "execution_count": 73,
     "metadata": {},
     "output_type": "execute_result"
    },
    {
     "data": {
      "image/png": "[encoded data removed]",
      "text/plain": [
       "<Figure size 432x288 with 1 Axes>"
      ]
     },
     "metadata": {
      "needs_background": "light"
     },
     "output_type": "display_data"
    }
   ],
   "source": [
    "plt.imshow(x_test[0], cmap='gray')"
   ]
  },
  {
   "cell_type": "code",
   "execution_count": 79,
   "id": "c2051d0a",
   "metadata": {},
   "outputs": [
    {
     "data": {
      "text/plain": [
       "(28, 28)"
      ]
     },
     "execution_count": 79,
     "metadata": {},
     "output_type": "execute_result"
    }
   ],
   "source": [
    "np.shape(x_test[0])"
   ]
  },
  {
   "cell_type": "code",
   "execution_count": 86,
   "id": "330e55f2",
   "metadata": {},
   "outputs": [
    {
     "name": "stdout",
     "output_type": "stream",
     "text": [
      "1/1 [==============================] - 0s 11ms/step\n"
     ]
    },
    {
     "data": {
      "text/plain": [
       "(1, 1)"
      ]
     },
     "execution_count": 86,
     "metadata": {},
     "output_type": "execute_result"
    }
   ],
   "source": [
    "pr=model.predict(x_test[:3]) # 나 피팅 했으니 저 이미지가 뭘 의미하는지 맞춰보고싶다 -> 에러\n",
    "#shape 자체가 안맞아서 에러가 나는것\n",
    "#가장 큰 숫자는 뒷 자리 숫자를 확인 하면된다. +00 가 가장 크고 앞자리숫자의 1\n",
    "#이렇게 하나씩 찾을수 없으니 numpy 명령어 중에서 가장큰 자리의 위치를 반환받는 모듈\n",
    "\n",
    "np.argmax(pr[2]), y_test[2] # 예측 데이터와 실제 y 데이터가 같은지 확인하는 용도 일뿐. 모듈에 다들 들어가있다."
   ]
  },
  {
   "cell_type": "code",
   "execution_count": 96,
   "id": "8e766dc0",
   "metadata": {},
   "outputs": [
    {
     "data": {
      "text/plain": [
       "((28, 28), (2, 28, 28))"
      ]
     },
     "execution_count": 96,
     "metadata": {},
     "output_type": "execute_result"
    }
   ],
   "source": [
    "np.shape(x_test[0]), np.shape(x_test[:2])"
   ]
  },
  {
   "cell_type": "markdown",
   "id": "abddf128",
   "metadata": {},
   "source": [
    "##########################################################################################################################################\n",
    "Input 0 of layer \"dense\" is incompatible with the layer: expected axis -1 of input shape to have value 784, but received input with shape (None, 28)\n",
    "    \n",
    "Call arguments received by layer \"sequential\" (type Sequential):\n",
    "  • inputs=tf.Tensor(shape=(None, 28), dtype=uint8)\n",
    "  • training=False\n",
    "  • mask=None\n",
    "  \n",
    "이러한 오류는 쉐입이 달라서 발생하는 오류,  array의 shape를 맞춰줘야 에러에서 해방 될 수 있다. 이게 안돼?\n",
    "reshape를 통해서 shape를 맞춰주는 과정이 필요하다."
   ]
  },
  {
   "cell_type": "code",
   "execution_count": 87,
   "id": "151cf33a",
   "metadata": {},
   "outputs": [
    {
     "name": "stdout",
     "output_type": "stream",
     "text": [
      "(784, 128) (128,)\n"
     ]
    }
   ],
   "source": [
    "model.get_config() \n",
    "\n",
    "#딕셔너리 구조의 클래스 네임을 보게되면 , class_name 이 있는 layer를 먼저 호출\n",
    "##model.get_config()['layers'][0]\n",
    "\n",
    "#type을 통해 먼저 확인해야 한다.\n",
    "\n",
    "##type(model.get_config())\n",
    "#나중엔 타입이나 이런것들로 많이 나눠지기 때문에 array구조를 필수적으로 해야한다.\n",
    "print(np.shape(model.weights[0]), np.shape(model.weights[1]))\n"
   ]
  },
  {
   "cell_type": "markdown",
   "id": "8ce52284",
   "metadata": {},
   "source": [
    "### 행이나 열을 reshape 를 해야한다 그래서 데이터 분석하기 편하다\n",
    "\n",
    "앞으로 해야되는건 shape 를 조작하는것, 왜 array 구조에 집중하는지, 브로드캐스트를 사용하여 해야 한다.\n",
    "numpy 는 인공신경망에 필수적이기 때문에 필수적으로 공부할것, 텐서나 파이나 둘다 넘파이를 제공해준다.\n",
    "사용할것에서 넘파이를 공부할것\n",
    "\n",
    "for loop 보다는  numpy 모듈을 사용하는게 속도가 훨씬 빠름."
   ]
  },
  {
   "cell_type": "code",
   "execution_count": 106,
   "id": "0a7da73a",
   "metadata": {},
   "outputs": [
    {
     "name": "stdout",
     "output_type": "stream",
     "text": [
      "1/1 [==============================] - 0s 12ms/step\n"
     ]
    },
    {
     "data": {
      "text/plain": [
       "7"
      ]
     },
     "execution_count": 106,
     "metadata": {},
     "output_type": "execute_result"
    }
   ],
   "source": [
    "np.shape(x_test[0])\n",
    "tmp = x_test[0]\n",
    "tmp = tmp.reshape(1,28,28)\n",
    "np.shape(tmp)\n",
    "\n",
    "np.argmax(model.predict(x_test[0].reshape(1,28,28)))\n",
    "#reshape 값은 원래 값의 곱과 같이 만들면 된다.\n"
   ]
  },
  {
   "cell_type": "code",
   "execution_count": 111,
   "id": "0085626a",
   "metadata": {},
   "outputs": [
    {
     "data": {
      "text/plain": [
       "array([[ 0,  1,  2],\n",
       "       [ 3,  4,  5],\n",
       "       [ 6,  7,  8],\n",
       "       [ 9, 10, 11],\n",
       "       [12, 13, 14]])"
      ]
     },
     "execution_count": 111,
     "metadata": {},
     "output_type": "execute_result"
    }
   ],
   "source": [
    "tmp = np.arange(15)\n",
    "\n",
    "np.shape(tmp) # (15,)와 (15,1)은 많이 다르다. 우리가 써야 할건 (15,1)\n",
    "\n",
    "\n",
    "tmp_reshape = np.arange(15).reshape(1,15)\n",
    "\n",
    "#(15,1)와 (1, 15)는 구조자체가 다르다.\n",
    "#써야만 하는 이슈가 있어서 쓴다.\n",
    "#reshape는 행 렬을 다시 만드는 과정\n",
    "\n",
    "tmp_reshape2 = np.arange(15).reshape(5,3)\n",
    "tmp_reshape2"
   ]
  },
  {
   "cell_type": "markdown",
   "id": "24e5d929",
   "metadata": {},
   "source": [
    "왜? reshape를 해야 되는지?\n",
    "15,1 같은 경우."
   ]
  },
  {
   "cell_type": "markdown",
   "id": "718dc937",
   "metadata": {},
   "source": [
    "## 리스트형 자료인 경우에는 reshape가 오류가 날수도있다.\n",
    "## 그러므로 np.reshape를 사용해주면 된다."
   ]
  },
  {
   "cell_type": "code",
   "execution_count": 108,
   "id": "e7702521",
   "metadata": {},
   "outputs": [
    {
     "data": {
      "text/plain": [
       "array([[1],\n",
       "       [2],\n",
       "       [3],\n",
       "       [4],\n",
       "       [5],\n",
       "       [6]])"
      ]
     },
     "execution_count": 108,
     "metadata": {},
     "output_type": "execute_result"
    }
   ],
   "source": [
    "x=[1,2,3,4,5,6]\n",
    "np.reshape(x,(6,1))"
   ]
  },
  {
   "cell_type": "code",
   "execution_count": 141,
   "id": "ca7b117c",
   "metadata": {},
   "outputs": [
    {
     "data": {
      "text/plain": [
       "array([[1],\n",
       "       [1],\n",
       "       [7]])"
      ]
     },
     "execution_count": 141,
     "metadata": {},
     "output_type": "execute_result"
    }
   ],
   "source": [
    "x=[[1,20],[1,15],[2,30]]\n",
    "w=np.array([1,1])\n",
    "y=np.array([[20],[15],[25]])\n",
    "# dot = another matrix product\n",
    "y_hat = np.sum(x*w , axis=1)\n",
    "#np.dot(x,w)\n",
    "\n",
    "\n",
    "#y_hat,y,y_hat-y # 오차\n",
    "\n",
    "#1차원에서 2차원을 빼주면 결과가가 이상하게 나온다.\n",
    "#차원을 맞춰줘야 제대로된 결과값을 얻을수있다.\n",
    "\n",
    "\n",
    "np.shape(y), np.shape(y_hat)\n",
    "\n",
    "tmp = np.reshape(y_hat, (3,1))\n",
    "\n",
    "np.shape(tmp)\n",
    "tmp - y\n"
   ]
  },
  {
   "cell_type": "markdown",
   "id": "9813826b",
   "metadata": {},
   "source": [
    "np.zeros, np.ones 도 사용할 경우도 많기 때문에 기억하기"
   ]
  },
  {
   "cell_type": "code",
   "execution_count": 130,
   "id": "abf7342d",
   "metadata": {},
   "outputs": [
    {
     "data": {
      "text/plain": [
       "<matplotlib.image.AxesImage at 0x21e8e3ca5e0>"
      ]
     },
     "execution_count": 130,
     "metadata": {},
     "output_type": "execute_result"
    },
    {
     "data": {
      "image/png": "[encoded data removed]",
      "text/plain": [
       "<Figure size 432x288 with 1 Axes>"
      ]
     },
     "metadata": {
      "needs_background": "light"
     },
     "output_type": "display_data"
    }
   ],
   "source": [
    "tmp = np.zeros((28,28))\n",
    "tmp\n",
    "#tmp array에 255를 넣고 싶으면 for loop문 사용하지 말것\n",
    "\n",
    "\n",
    "\n",
    "#plt.imshow(tmp, cmap='gray')"
   ]
  },
  {
   "cell_type": "code",
   "execution_count": 142,
   "id": "ddc2d608",
   "metadata": {},
   "outputs": [
    {
     "data": {
      "text/plain": [
       "(0.0, 0.0)"
      ]
     },
     "execution_count": 142,
     "metadata": {},
     "output_type": "execute_result"
    },
    {
     "data": {
      "image/png": "[encoded data removed]",
      "text/plain": [
       "<Figure size 432x288 with 1 Axes>"
      ]
     },
     "metadata": {
      "needs_background": "light"
     },
     "output_type": "display_data"
    }
   ],
   "source": [
    "#함수로 만들어두기\n",
    "def a(x):\n",
    "    plt.imshow(x, cmap='gray')\n",
    "\n",
    "#소수가 들어가는 리스트로 변경되었지만 표현은 똑같이 나온다.\n",
    "tmp = x_test[0]/255\n",
    "#스케일링이 되어서 들어오는 자료가 있다. 스케일링 확인 하는것은 255까지 나오면\n",
    "#스케일링이 안되어 있는 자료.\n",
    "#받은 자료에서 소수 이하까지 없는 자료 또한 스케일링이 안되어 있는자료\n",
    "#받은 자료는 int zeros를 만들면 float 자료형이기 때문에 연산 하게 되면 오류가 날수도있음\n",
    "#받은 자료형, 자료 구조 등을 확인해보고 맞춰줄것\n",
    "a(tmp)\n",
    "tmp[0].min(), tmp[0].max()"
   ]
  },
  {
   "cell_type": "markdown",
   "id": "9eb1d8c9",
   "metadata": {},
   "source": [
    "### Numpy Slicing\n",
    "b[:,1]  => 행은 다 보여주시고 열은 1열만 보여주세요\n",
    "b[1,:] => 위와 반대로 행은 1행만 열은 모든 열을 보여주세요"
   ]
  },
  {
   "cell_type": "code",
   "execution_count": 146,
   "id": "80edfe98",
   "metadata": {},
   "outputs": [
    {
     "data": {
      "image/png": "[encoded data removed]",
      "text/plain": [
       "<Figure size 432x288 with 1 Axes>"
      ]
     },
     "metadata": {
      "needs_background": "light"
     },
     "output_type": "display_data"
    }
   ],
   "source": [
    "a(x_test[0][:14,:])"
   ]
  },
  {
   "cell_type": "code",
   "execution_count": 153,
   "id": "a3f6277d",
   "metadata": {},
   "outputs": [
    {
     "data": {
      "image/png": "[encoded data removed]",
      "text/plain": [
       "<Figure size 432x288 with 1 Axes>"
      ]
     },
     "metadata": {
      "needs_background": "light"
     },
     "output_type": "display_data"
    }
   ],
   "source": [
    "x_test[0][:14,:] = x_test[0][:14,:]*0\n",
    "a(x_test[0])\n",
    "\n",
    "# [...] = [:,:]  ...는 모든 행렬을 선택하는것\n",
    "#T는 가로 세로 바꿔주는 명령어"
   ]
  },
  {
   "cell_type": "code",
   "execution_count": 154,
   "id": "191b917f",
   "metadata": {},
   "outputs": [],
   "source": [
    "from numpy import newaxis"
   ]
  },
  {
   "cell_type": "markdown",
   "id": "a2010103",
   "metadata": {},
   "source": [
    "column_stack\n",
    "hstack  ==> newaxis 위치에 따라 추가되는 위치가 달라진다.\n",
    "vstack\n",
    "\n"
   ]
  },
  {
   "cell_type": "code",
   "execution_count": 159,
   "id": "93d922b7",
   "metadata": {},
   "outputs": [
    {
     "data": {
      "text/plain": [
       "(5, 28, 28)"
      ]
     },
     "execution_count": 159,
     "metadata": {},
     "output_type": "execute_result"
    }
   ],
   "source": [
    "tmp = np.shape(x_test[:5])\n",
    "tmp"
   ]
  },
  {
   "cell_type": "code",
   "execution_count": 161,
   "id": "d426760a",
   "metadata": {},
   "outputs": [
    {
     "data": {
      "text/plain": [
       "(28, 140)"
      ]
     },
     "execution_count": 161,
     "metadata": {},
     "output_type": "execute_result"
    }
   ],
   "source": [
    "# 사진을 옆으로 이어 붙히는 numpy의 기능, hstack\n",
    "\n",
    "tmp = np.hstack(x_test[:5])\n",
    "np.shape(tmp)  # => (28, 140) 28x5 = 140, hstack을 통해 28의 5개가 가로로 붙혀진다.\n",
    "a(tmp)"
   ]
  },
  {
   "cell_type": "code",
   "execution_count": 163,
   "id": "76c1eedd",
   "metadata": {},
   "outputs": [
    {
     "data": {
      "image/png": "[encoded data removed]",
      "text/plain": [
       "<Figure size 432x288 with 1 Axes>"
      ]
     },
     "metadata": {
      "needs_background": "light"
     },
     "output_type": "display_data"
    }
   ],
   "source": [
    "tmp = np.vstack(x_test[:5])\n",
    "np.shape(tmp) # => (28, 140) 28x5 = 140, hstack을 통해 28의 5개가 세로로 붙혀진다.\n",
    "a(tmp)"
   ]
  },
  {
   "cell_type": "code",
   "execution_count": null,
   "id": "ff98138d",
   "metadata": {},
   "outputs": [],
   "source": [
    "a = np.array([4., 2.])\n",
    "print(np.shape(a))\n",
    "b = a[:, newaxis]\n",
    "c = a[newaxis, ...]\n",
    "print(np.shape(b), np.shape(c))"
   ]
  },
  {
   "cell_type": "code",
   "execution_count": 166,
   "id": "41511193",
   "metadata": {},
   "outputs": [
    {
     "data": {
      "text/plain": [
       "(28, 28)"
      ]
     },
     "execution_count": 166,
     "metadata": {},
     "output_type": "execute_result"
    }
   ],
   "source": [
    "np.shape(x_test[0])"
   ]
  },
  {
   "cell_type": "code",
   "execution_count": 168,
   "id": "1243b297",
   "metadata": {},
   "outputs": [
    {
     "data": {
      "text/plain": [
       "(1, 28, 28)"
      ]
     },
     "execution_count": 168,
     "metadata": {},
     "output_type": "execute_result"
    }
   ],
   "source": [
    "x_test[0][newaxis,...]\n",
    "x_test[0][newaxis,...]\n",
    "\n",
    "\n",
    "#reshape 를 할 수 있는 다른 방법\n",
    "np.shape(x_test[0][newaxis,...])"
   ]
  },
  {
   "cell_type": "code",
   "execution_count": 174,
   "id": "106bebba",
   "metadata": {},
   "outputs": [
    {
     "data": {
      "text/plain": [
       "<matplotlib.image.AxesImage at 0x21e8f9cb7c0>"
      ]
     },
     "execution_count": 174,
     "metadata": {},
     "output_type": "execute_result"
    },
    {
     "data": {
      "image/png": "[encoded data removed]",
      "text/plain": [
       "<Figure size 432x288 with 1 Axes>"
      ]
     },
     "metadata": {
      "needs_background": "light"
     },
     "output_type": "display_data"
    }
   ],
   "source": [
    "tmp = 255-x_train[0]\n",
    "np.shape(tmp)\n",
    "\n",
    "plt.imshow(tmp, cmap='gray')"
   ]
  },
  {
   "cell_type": "markdown",
   "id": "0f6b4b80",
   "metadata": {},
   "source": [
    "## Numpy\n",
    "- "
   ]
  }
 ],
 "metadata": {
  "kernelspec": {
   "display_name": "Python 3 (ipykernel)",
   "language": "python",
   "name": "python3"
  },
  "language_info": {
   "codemirror_mode": {
    "name": "ipython",
    "version": 3
   },
   "file_extension": ".py",
   "mimetype": "text/x-python",
   "name": "python",
   "nbconvert_exporter": "python",
   "pygments_lexer": "ipython3",
   "version": "3.9.12"
  }
 },
 "nbformat": 4,
 "nbformat_minor": 5
}
