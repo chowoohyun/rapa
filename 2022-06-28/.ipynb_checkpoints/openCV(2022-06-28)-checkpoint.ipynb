{
 "cells": [
  {
   "cell_type": "code",
   "execution_count": 1,
   "id": "472c82f2",
   "metadata": {},
   "outputs": [
    {
     "name": "stdout",
     "output_type": "stream",
     "text": [
      "Requirement already satisfied: opencv-python in c:\\users\\hp\\miniconda3\\lib\\site-packages (4.6.0.66)\n",
      "Requirement already satisfied: numpy>=1.17.3 in c:\\users\\hp\\miniconda3\\lib\\site-packages (from opencv-python) (1.23.0)\n"
     ]
    }
   ],
   "source": [
    "!pip install opencv-python"
   ]
  },
  {
   "cell_type": "markdown",
   "id": "9ae39df4",
   "metadata": {},
   "source": [
    "openCV는 많은 기능을 가지고 있는 라이브러리\n",
    "\n"
   ]
  },
  {
   "cell_type": "code",
   "execution_count": 2,
   "id": "ac699013",
   "metadata": {},
   "outputs": [],
   "source": [
    "import cv2"
   ]
  },
  {
   "cell_type": "code",
   "execution_count": 16,
   "id": "302329e1",
   "metadata": {},
   "outputs": [],
   "source": [
    "aaa = []\n",
    "\n",
    "# haarcascade 불러오기\n",
    "face_cascade = cv2.CascadeClassifier(cv2.data.haarcascades + 'haarcascade_frontalface_default.xml')\n",
    "eye_cascade = cv2.CascadeClassifier(cv2.data.haarcascades + 'haarcascade_eye.xml')\n",
    "\n",
    "# 이미지 불러오기\n",
    "img = cv2.imread('two.jpg')\n",
    "gray = cv2.cvtColor(img, cv2.COLOR_BGR2GRAY)\n",
    "\n",
    "faces = face_cascade.detectMultiScale(gray, 1.3, 5)\n",
    "\n",
    "\n",
    "blue = (255, 0, 0)\n",
    "green= (0, 255, 0)\n",
    "red= (0, 0, 255)\n",
    "white= (255, 255, 255)\n",
    "font = cv2.FONT_HERSHEY_PLAIN\n",
    "img = cv2.putText(img, 'face_cnt : '+str(len(faces)), (10, 30), font, 2, blue, 1, cv2.LINE_AA)\n",
    "result=0\n",
    "\n",
    "# 얼굴 찾기\n",
    "for (x, y, w, h) in faces:\n",
    "    cv2.rectangle(img, (x-20, y-20), (x + w+20, y + h+20), (255, 0, 0), 2)\n",
    "    result += 1\n",
    "    img = cv2.putText(img, str(result), (x-20, y-30), font, 1, blue, 1, cv2.LINE_AA)\n",
    "    \n",
    "    \n",
    "    #이만큼만 어레이로 가져가서 모델에 넣어보려고 한다.\n",
    "    roi_color = img[y-20:y + h+20, x-20:x + w+20]\n",
    "    cv2.imwrite(str(result)+'tmp.jpg',roi_color)\n",
    "\n",
    "    \n",
    "    #한사람씩 보기/ 윈도우창 닫고 다시 하면 나온다.\n",
    "#     cv2.imshow('image', img)\n",
    "#     key = cv2.waitKey(0)\n",
    "#     cv2.destroyAllWindows()\n",
    "\n",
    "cv2.imshow('image', img)\n",
    "key = cv2.waitKey(0)\n",
    "cv2.destroyAllWindows()\n",
    "\n",
    "\n",
    "#roi_color = img[y-20:y + h+20, x-20:x + w+20]\n",
    "#cv2.imwrite('tmp.jpg',roi_color)\n",
    "#opencv 는 열 높이로 높이 값으로 "
   ]
  },
  {
   "cell_type": "code",
   "execution_count": null,
   "id": "8208311a",
   "metadata": {},
   "outputs": [],
   "source": []
  }
 ],
 "metadata": {
  "kernelspec": {
   "display_name": "Python 3 (ipykernel)",
   "language": "python",
   "name": "python3"
  },
  "language_info": {
   "codemirror_mode": {
    "name": "ipython",
    "version": 3
   },
   "file_extension": ".py",
   "mimetype": "text/x-python",
   "name": "python",
   "nbconvert_exporter": "python",
   "pygments_lexer": "ipython3",
   "version": "3.9.12"
  }
 },
 "nbformat": 4,
 "nbformat_minor": 5
}
