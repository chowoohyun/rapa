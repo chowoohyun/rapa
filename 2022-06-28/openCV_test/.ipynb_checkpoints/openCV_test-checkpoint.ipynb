{
 "cells": [
  {
   "cell_type": "code",
   "execution_count": 1,
   "id": "87a9bad0",
   "metadata": {},
   "outputs": [
    {
     "name": "stdout",
     "output_type": "stream",
     "text": [
      "Requirement already satisfied: opencv-python in c:\\users\\hp\\miniconda3\\lib\\site-packages (4.6.0.66)\n",
      "Requirement already satisfied: numpy>=1.17.3 in c:\\users\\hp\\miniconda3\\lib\\site-packages (from opencv-python) (1.23.0)\n"
     ]
    }
   ],
   "source": [
    "!pip install opencv-python"
   ]
  },
  {
   "cell_type": "code",
   "execution_count": 2,
   "id": "d96a3ee3",
   "metadata": {},
   "outputs": [],
   "source": [
    "import cv2\n",
    "from keras.models import load_model\n",
    "from PIL import Image, ImageOps\n",
    "import numpy as np\n",
    "import matplotlib.pyplot as plt\n",
    "\n",
    "face_cascade = cv2.CascadeClassifier(cv2.data.haarcascades + 'haarcascade_frontalface_default.xml')\n",
    "eye_cascade = cv2.CascadeClassifier(cv2.data.haarcascades + 'haarcascade_eye.xml')\n",
    "\n",
    "img = cv2.imread('two.jpg')\n",
    "gray = cv2.cvtColor(img, cv2.COLOR_BGR2GRAY)\n",
    "\n",
    "faces = face_cascade.detectMultiScale(gray, 1.3, 5)\n",
    "\n",
    "\n",
    "#font\n",
    "blue = (255, 0, 0)\n",
    "green= (0, 255, 0)\n",
    "red= (0, 0, 255)\n",
    "white= (255, 255, 255)\n",
    "font = cv2.FONT_HERSHEY_PLAIN\n",
    "\n",
    "#count\n",
    "result = 0 \n",
    "\n",
    "for (x, y, w, h) in faces:\n",
    "    \n",
    "    result += 1\n",
    "    cv2.rectangle(img, (x-20, y-20), (x + w+20, y + h+20), (255, 0, 0), 2)\n",
    "    img = cv2.putText(img, str(result), (x-20, y-30), font, 1, blue, 1, cv2.LINE_AA)\n",
    "    \n",
    "    roi_color = img[y-20:y + h+20, x-20:x + w+20]\n",
    "    cv2.imwrite('face_result\\\\'+str(result)+'.jpg',roi_color)\n",
    "    \n",
    "    \n",
    "    \n",
    "cv2.imshow('image', img)\n",
    "key = cv2.waitKey(0)\n",
    "cv2.destroyAllWindows()"
   ]
  },
  {
   "cell_type": "code",
   "execution_count": null,
   "id": "53fe0190",
   "metadata": {},
   "outputs": [],
   "source": [
    "# face_cascade = cv2.CascadeClassifier(cv2.data.haarcascades + 'haarcascade_frontalface_default.xml')\n",
    "# eye_cascade = cv2.CascadeClassifier(cv2.data.haarcascades + 'haarcascade_eye.xml')\n",
    "\n",
    "# img = cv2.imread('two.jpg')\n",
    "# gray = cv2.cvtColor(img, cv2.COLOR_BGR2GRAY)\n",
    "\n",
    "# faces = face_cascade.detectMultiScale(gray, 1.3, 5)\n",
    "\n",
    "\n",
    "# #font\n",
    "# blue = (255, 0, 0)\n",
    "# green= (0, 255, 0)\n",
    "# red= (0, 0, 255)\n",
    "# white= (255, 255, 255)\n",
    "# font = cv2.FONT_HERSHEY_PLAIN\n",
    "\n",
    "# #count\n",
    "# result = 0 \n",
    "\n",
    "# for (x, y, w, h) in faces:\n",
    "    \n",
    "#     result += 1\n",
    "#     cv2.rectangle(img, (x-20, y-20), (x + w+20, y + h+20), (255, 0, 0), 2)\n",
    "#     img = cv2.putText(img, str(result), (x-20, y-30), font, 1, blue, 1, cv2.LINE_AA)\n",
    "    \n",
    "#     roi_color = img[y-20:y + h+20, x-20:x + w+20]\n",
    "#     cv2.imwrite('face_result\\\\'+str(result)+'.jpg',roi_color)\n",
    "    \n",
    "    \n",
    "    \n",
    "# cv2.imshow('image', img)\n",
    "# key = cv2.waitKey(0)\n",
    "# cv2.destroyAllWindows()"
   ]
  },
  {
   "cell_type": "code",
   "execution_count": null,
   "id": "21f9910a",
   "metadata": {},
   "outputs": [],
   "source": []
  }
 ],
 "metadata": {
  "kernelspec": {
   "display_name": "Python 3 (ipykernel)",
   "language": "python",
   "name": "python3"
  },
  "language_info": {
   "codemirror_mode": {
    "name": "ipython",
    "version": 3
   },
   "file_extension": ".py",
   "mimetype": "text/x-python",
   "name": "python",
   "nbconvert_exporter": "python",
   "pygments_lexer": "ipython3",
   "version": "3.9.12"
  }
 },
 "nbformat": 4,
 "nbformat_minor": 5
}
