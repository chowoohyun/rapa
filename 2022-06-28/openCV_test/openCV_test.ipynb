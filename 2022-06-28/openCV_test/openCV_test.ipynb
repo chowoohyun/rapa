{
 "cells": [
  {
   "cell_type": "code",
   "execution_count": 1,
   "id": "87a9bad0",
   "metadata": {},
   "outputs": [
    {
     "name": "stdout",
     "output_type": "stream",
     "text": [
      "Requirement already satisfied: opencv-python in c:\\users\\hp\\miniconda3\\lib\\site-packages (4.6.0.66)\n",
      "Requirement already satisfied: numpy>=1.19.3 in c:\\users\\hp\\miniconda3\\lib\\site-packages (from opencv-python) (1.23.0)\n"
     ]
    }
   ],
   "source": [
    "!pip install opencv-python"
   ]
  },
  {
   "cell_type": "code",
   "execution_count": 2,
   "id": "6690916a",
   "metadata": {},
   "outputs": [],
   "source": [
    "import cv2\n",
    "from keras.models import load_model\n",
    "from PIL import Image, ImageOps\n",
    "import numpy as np\n",
    "import matplotlib.pyplot as plt"
   ]
  },
  {
   "cell_type": "code",
   "execution_count": 3,
   "id": "ba2e3cc1",
   "metadata": {},
   "outputs": [
    {
     "name": "stdout",
     "output_type": "stream",
     "text": [
      "WARNING:tensorflow:No training configuration found in the save file, so the model was *not* compiled. Compile it manually.\n"
     ]
    }
   ],
   "source": [
    "model = load_model('keras_model.h5')"
   ]
  },
  {
   "cell_type": "code",
   "execution_count": 4,
   "id": "445e3743",
   "metadata": {},
   "outputs": [],
   "source": [
    "def modelP(imgArea):\n",
    "    \n",
    "    data = np.ndarray(shape=(1, 224, 224, 3), dtype=np.float32)\n",
    "    image = Image.open(imgArea)\n",
    "    size = (224, 224)\n",
    "    image = ImageOps.fit(image, size, Image.ANTIALIAS)\n",
    "    image_array = np.asarray(image)\n",
    "    normalized_image_array = (image_array.astype(np.float32) / 127.0) - 1\n",
    "    data[0] = normalized_image_array\n",
    "    prediction = model.predict(data)\n",
    "    class_name=['male','female']\n",
    "    txt=class_name[np.argmax(prediction)] + '==> male:' + str(prediction[0][0]*100) + ' female: ' + str(prediction[0][1]*100)\n",
    "    \n",
    "    return txt"
   ]
  },
  {
   "cell_type": "code",
   "execution_count": 5,
   "id": "d96a3ee3",
   "metadata": {},
   "outputs": [
    {
     "name": "stderr",
     "output_type": "stream",
     "text": [
      "C:\\Users\\HP\\AppData\\Local\\Temp\\ipykernel_11624\\2590451061.py:6: DeprecationWarning: ANTIALIAS is deprecated and will be removed in Pillow 10 (2023-07-01). Use Resampling.LANCZOS instead.\n",
      "  image = ImageOps.fit(image, size, Image.ANTIALIAS)\n"
     ]
    },
    {
     "name": "stdout",
     "output_type": "stream",
     "text": [
      "1/1 [==============================] - 0s 358ms/step\n",
      "1/1 [==============================] - 0s 17ms/step\n",
      "1/1 [==============================] - 0s 16ms/step\n",
      "1/1 [==============================] - 0s 18ms/step\n",
      "1/1 [==============================] - 0s 17ms/step\n",
      "1/1 [==============================] - 0s 19ms/step\n",
      "1/1 [==============================] - 0s 17ms/step\n",
      "1/1 [==============================] - 0s 16ms/step\n",
      "1/1 [==============================] - 0s 17ms/step\n",
      "['female==> male:11.038060486316681 female: 88.96193504333496', 'female==> male:22.380810976028442 female: 77.61918306350708', 'male==> male:79.49475646018982 female: 20.50524204969406', 'male==> male:82.01141357421875 female: 17.988581955432892', 'male==> male:78.64617705345154 female: 21.353821456432343', 'male==> male:81.62813782691956 female: 18.371857702732086', 'female==> male:7.153774797916412 female: 92.84622073173523', 'male==> male:55.4760217666626 female: 44.52398121356964', 'female==> male:24.966873228549957 female: 75.03312230110168']\n"
     ]
    }
   ],
   "source": [
    "aaa=[]\n",
    "\n",
    "\n",
    "#haarcascades 불러오기\n",
    "face_cascade = cv2.CascadeClassifier(cv2.data.haarcascades + 'haarcascade_frontalface_default.xml')\n",
    "eye_cascade = cv2.CascadeClassifier(cv2.data.haarcascades + 'haarcascade_eye.xml')\n",
    "\n",
    "\n",
    "#이미지 불러오기\n",
    "img = cv2.imread('two.jpg')\n",
    "gray = cv2.cvtColor(img, cv2.COLOR_BGR2GRAY)\n",
    "\n",
    "\n",
    "#얼굴 찾기\n",
    "faces = face_cascade.detectMultiScale(gray, 1.3, 5)\n",
    "\n",
    "\n",
    "#font\n",
    "blue = (255, 0, 0)\n",
    "green= (0, 255, 0)\n",
    "red= (0, 0, 255)\n",
    "white= (255, 255, 255)\n",
    "font = cv2.FONT_HERSHEY_PLAIN\n",
    "\n",
    "#count\n",
    "result = 0 \n",
    "\n",
    "for (x, y, w, h) in faces:\n",
    "    \n",
    "    result += 1\n",
    "    cv2.rectangle(img, (x-20, y-20), (x + w+20, y + h+20), (255, 0, 0), 2)\n",
    "    img = cv2.putText(img, str(result), (x-20, y-30), font, 1, blue, 1, cv2.LINE_AA)\n",
    "    \n",
    "    roi_color = img[y-20:y + h+20, x-20:x + w+20]\n",
    "    cv2.imwrite('face_result\\\\'+str(result)+'.jpg',roi_color)\n",
    "    pre=modelP('face_result\\\\'+str(result)+'.jpg')\n",
    "    aaa.append(pre)\n",
    "    #print(aaa)\n",
    "\n",
    "    \n",
    "print(aaa)\n",
    "cv2.imshow('image', img)\n",
    "key = cv2.waitKey(0)\n",
    "cv2.destroyAllWindows()\n"
   ]
  },
  {
   "cell_type": "code",
   "execution_count": 7,
   "id": "164272e0",
   "metadata": {},
   "outputs": [
    {
     "name": "stdout",
     "output_type": "stream",
     "text": [
      "total count => male:5 female:4\n"
     ]
    },
    {
     "data": {
      "image/png": "[encoded data removed]",
      "text/plain": [
       "<Figure size 432x288 with 1 Axes>"
      ]
     },
     "metadata": {
      "needs_background": "light"
     },
     "output_type": "display_data"
    }
   ],
   "source": [
    "gubun=[i.split('==>')[0] for i in aaa]\n",
    "re=np.unique(gubun, return_counts=True)\n",
    "plt.bar(re[0],re[1])\n",
    "txt='total count => male:' + str(re[1][1]) + ' female:'+str(re[1][0])\n",
    "print(txt)"
   ]
  },
  {
   "cell_type": "code",
   "execution_count": 8,
   "id": "a67936ce",
   "metadata": {},
   "outputs": [],
   "source": [
    "img = cv2.imread('two.jpg')\n",
    "# 폰트 색상 지정\n",
    "\n",
    "\n",
    "blue = (255, 0, 0)\n",
    "green= (0, 255, 0)\n",
    "red= (0, 0, 255)\n",
    "white= (255, 255, 255)\n",
    "font = cv2.FONT_HERSHEY_PLAIN\n",
    "img = cv2.putText(img, txt, (10, 30), font, 2, blue, 1, cv2.LINE_AA)\n",
    "\n",
    "for (x, y, w, h),result in zip(faces,aaa):\n",
    "    \n",
    "    cv2.rectangle(img, (x-20, y-20), (x + w+20, y + h+20), (255, 0, 0), 2)\n",
    "    img = cv2.putText(img, result, (x, y-30), font, 1, blue, 1, cv2.LINE_AA)\n",
    "    \n",
    "cv2.imshow('img',img)\n",
    "cv2.waitKey(0)\n",
    "cv2.destroyAllWindows()\n"
   ]
  }
 ],
 "metadata": {
  "kernelspec": {
   "display_name": "Python 3 (ipykernel)",
   "language": "python",
   "name": "python3"
  },
  "language_info": {
   "codemirror_mode": {
    "name": "ipython",
    "version": 3
   },
   "file_extension": ".py",
   "mimetype": "text/x-python",
   "name": "python",
   "nbconvert_exporter": "python",
   "pygments_lexer": "ipython3",
   "version": "3.9.12"
  }
 },
 "nbformat": 4,
 "nbformat_minor": 5
}
