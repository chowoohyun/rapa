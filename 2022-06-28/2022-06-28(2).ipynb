{
 "cells": [
  {
   "cell_type": "markdown",
   "id": "9e651e3f",
   "metadata": {},
   "source": [
    "## celed 데이터를 받아서 여, 남 구분"
   ]
  },
  {
   "cell_type": "code",
   "execution_count": 2,
   "id": "cc98eeaa",
   "metadata": {},
   "outputs": [
    {
     "name": "stdout",
     "output_type": "stream",
     "text": [
      "Requirement already satisfied: pandas in c:\\users\\hp\\miniconda3\\lib\\site-packages (1.4.3)\n",
      "Requirement already satisfied: python-dateutil>=2.8.1 in c:\\users\\hp\\miniconda3\\lib\\site-packages (from pandas) (2.8.2)\n",
      "Requirement already satisfied: numpy>=1.18.5 in c:\\users\\hp\\miniconda3\\lib\\site-packages (from pandas) (1.23.0)\n",
      "Requirement already satisfied: pytz>=2020.1 in c:\\users\\hp\\miniconda3\\lib\\site-packages (from pandas) (2022.1)\n",
      "Requirement already satisfied: six>=1.5 in c:\\users\\hp\\miniconda3\\lib\\site-packages (from python-dateutil>=2.8.1->pandas) (1.16.0)\n"
     ]
    }
   ],
   "source": [
    "!pip install pandas"
   ]
  },
  {
   "cell_type": "code",
   "execution_count": 7,
   "id": "f6e5a183",
   "metadata": {
    "scrolled": true
   },
   "outputs": [
    {
     "data": {
      "text/plain": [
       "['5_o_Clock_Shadow',\n",
       " 'Arched_Eyebrows',\n",
       " 'Attractive',\n",
       " 'Bags_Under_Eyes',\n",
       " 'Bald',\n",
       " 'Bangs',\n",
       " 'Big_Lips',\n",
       " 'Big_Nose',\n",
       " 'Black_Hair',\n",
       " 'Blond_Hair',\n",
       " 'Blurry',\n",
       " 'Brown_Hair',\n",
       " 'Bushy_Eyebrows',\n",
       " 'Chubby',\n",
       " 'Double_Chin',\n",
       " 'Eyeglasses',\n",
       " 'Goatee',\n",
       " 'Gray_Hair',\n",
       " 'Heavy_Makeup',\n",
       " 'High_Cheekbones',\n",
       " 'Male',\n",
       " 'Mouth_Slightly_Open',\n",
       " 'Mustache',\n",
       " 'Narrow_Eyes',\n",
       " 'No_Beard',\n",
       " 'Oval_Face',\n",
       " 'Pale_Skin',\n",
       " 'Pointy_Nose',\n",
       " 'Receding_Hairline',\n",
       " 'Rosy_Cheeks',\n",
       " 'Sideburns',\n",
       " 'Smiling',\n",
       " 'Straight_Hair',\n",
       " 'Wavy_Hair',\n",
       " 'Wearing_Earrings',\n",
       " 'Wearing_Hat',\n",
       " 'Wearing_Lipstick',\n",
       " 'Wearing_Necklace',\n",
       " 'Wearing_Necktie',\n",
       " 'Young']"
      ]
     },
     "execution_count": 7,
     "metadata": {},
     "output_type": "execute_result"
    }
   ],
   "source": [
    "import pandas as pd\n",
    "df = pd.read_csv('list_attr_celeba.csv')\n",
    "tmp = df.columns[1:]\n",
    "index_list = [i for i in tmp]\n",
    "index_list\n"
   ]
  },
  {
   "cell_type": "code",
   "execution_count": 8,
   "id": "4519f812",
   "metadata": {},
   "outputs": [],
   "source": [
    "import os\n",
    "\n",
    "for i in index_list:\n",
    "    os.makedirs('{}/1'.format(i),exist_ok=True)\n",
    "    os.makedirs('{}/-1'.format(i),exist_ok=True)\n",
    "    "
   ]
  },
  {
   "cell_type": "code",
   "execution_count": null,
   "id": "a1a7e657",
   "metadata": {},
   "outputs": [],
   "source": [
    "## 정답 코드( 부성순 교수님 )\n",
    "# for x in df.columns[1:]:\n",
    "#     for j in df['Male'].unique():\n",
    "#         os.mkdir('.\\\\img\\\\'+x+'\\\\'+str(j))"
   ]
  },
  {
   "cell_type": "code",
   "execution_count": 11,
   "id": "5575e7a2",
   "metadata": {},
   "outputs": [
    {
     "name": "stdout",
     "output_type": "stream",
     "text": [
      "Requirement already satisfied: tqdm in c:\\users\\hp\\miniconda3\\lib\\site-packages (4.63.0)\n",
      "Requirement already satisfied: colorama in c:\\users\\hp\\miniconda3\\lib\\site-packages (from tqdm) (0.4.4)\n"
     ]
    }
   ],
   "source": [
    "!pip install tqdm"
   ]
  },
  {
   "cell_type": "code",
   "execution_count": 15,
   "id": "2db9a8df",
   "metadata": {},
   "outputs": [
    {
     "name": "stderr",
     "output_type": "stream",
     "text": [
      "202599it [10:09, 332.60it/s]\n"
     ]
    }
   ],
   "source": [
    "import shutil\n",
    "from tqdm import tqdm\n",
    "\n",
    "source_dir='.\\\\a\\\\img_align_celeba\\\\img_align_celeba\\\\'\n",
    "\n",
    "for fileName,folder in tqdm(zip(df['image_id'],df['Male'])):\n",
    "  \n",
    "\n",
    "    source=source_dir + fileName\n",
    "    target='.\\\\\\\\Male\\\\'+ str(folder) + '\\\\' + fileName\n",
    "    shutil.copy(source, target)"
   ]
  },
  {
   "cell_type": "markdown",
   "id": "028c7842",
   "metadata": {},
   "source": [
    "tqdm = 프로그래스바!\n",
    "과정이 얼마나 진행 됬는지 확인 가능하다."
   ]
  },
  {
   "cell_type": "markdown",
   "id": "401960bd",
   "metadata": {},
   "source": [
    "## 부성순 강사님 풀이"
   ]
  },
  {
   "cell_type": "code",
   "execution_count": 75,
   "id": "172843e1",
   "metadata": {},
   "outputs": [
    {
     "ename": "FileNotFoundError",
     "evalue": "[WinError 3] 지정된 경로를 찾을 수 없습니다: '.\\\\img\\\\5_o_Clock_Shadow'",
     "output_type": "error",
     "traceback": [
      "\u001b[1;31m---------------------------------------------------------------------------\u001b[0m",
      "\u001b[1;31mFileNotFoundError\u001b[0m                         Traceback (most recent call last)",
      "Input \u001b[1;32mIn [75]\u001b[0m, in \u001b[0;36m<cell line: 2>\u001b[1;34m()\u001b[0m\n\u001b[0;32m      1\u001b[0m \u001b[38;5;28;01mimport\u001b[39;00m \u001b[38;5;21;01mos\u001b[39;00m\n\u001b[0;32m      2\u001b[0m \u001b[38;5;28;01mfor\u001b[39;00m x \u001b[38;5;129;01min\u001b[39;00m df\u001b[38;5;241m.\u001b[39mcolumns[\u001b[38;5;241m1\u001b[39m:]:\n\u001b[1;32m----> 3\u001b[0m     \u001b[43mos\u001b[49m\u001b[38;5;241;43m.\u001b[39;49m\u001b[43mmkdir\u001b[49m\u001b[43m(\u001b[49m\u001b[38;5;124;43m'\u001b[39;49m\u001b[38;5;124;43m.\u001b[39;49m\u001b[38;5;130;43;01m\\\\\u001b[39;49;00m\u001b[38;5;124;43mimg\u001b[39;49m\u001b[38;5;130;43;01m\\\\\u001b[39;49;00m\u001b[38;5;124;43m'\u001b[39;49m\u001b[38;5;241;43m+\u001b[39;49m\u001b[43m \u001b[49m\u001b[43mx\u001b[49m\u001b[43m)\u001b[49m\n",
      "\u001b[1;31mFileNotFoundError\u001b[0m: [WinError 3] 지정된 경로를 찾을 수 없습니다: '.\\\\img\\\\5_o_Clock_Shadow'"
     ]
    }
   ],
   "source": [
    "# import pandas as pd\n",
    "# df=pd.read_csv('.\\\\archive\\\\list_attr_celeba.csv')\n",
    "# df.columns\n",
    "\n",
    "# import os\n",
    "# for x in df.columns[1:]:\n",
    "#     os.mkdir('.\\\\img\\\\'+ x)\n",
    "    \n",
    "# for x in df.columns[1:]:\n",
    "#     os.mkdir('.\\\\img\\\\'+ x+ '\\\\'+  str(-1))\n",
    "#     os.mkdir('.\\\\img\\\\'+ x+ '\\\\'+str(1))\n",
    "    \n",
    "# import shutil\n",
    "# source_dir='.\\\\archive\\\\img_align_celeba\\\\img_align_celeba\\\\'\n",
    "\n",
    "# for fileName,folder in zip(df['image_id'][:10],df['Male'][:10]):\n",
    "  \n",
    "\n",
    "#     source=source_dir + fileName\n",
    "#     target='.\\\\img\\\\Male\\\\'+ str(folder) + '\\\\' + fileName\n",
    "#     shutil.copy(source, target)"
   ]
  },
  {
   "cell_type": "code",
   "execution_count": null,
   "id": "bed95352",
   "metadata": {},
   "outputs": [],
   "source": [
    "# 파이썬에서 인덱싱은 시간이 오래걸리기 때문에 많이 사용하지 말것(for 구문 같은것들)"
   ]
  }
 ],
 "metadata": {
  "kernelspec": {
   "display_name": "Python 3 (ipykernel)",
   "language": "python",
   "name": "python3"
  },
  "language_info": {
   "codemirror_mode": {
    "name": "ipython",
    "version": 3
   },
   "file_extension": ".py",
   "mimetype": "text/x-python",
   "name": "python",
   "nbconvert_exporter": "python",
   "pygments_lexer": "ipython3",
   "version": "3.9.12"
  }
 },
 "nbformat": 4,
 "nbformat_minor": 5
}
